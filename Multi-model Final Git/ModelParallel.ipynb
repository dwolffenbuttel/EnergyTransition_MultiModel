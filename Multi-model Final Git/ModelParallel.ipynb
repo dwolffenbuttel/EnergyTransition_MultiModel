{
 "cells": [
  {
   "cell_type": "code",
   "execution_count": null,
   "metadata": {},
   "outputs": [],
   "source": [
    "from MultiModelFinal7 import CombinedModel\n",
    "\n",
    "import os\n",
    "import pandas as pd\n",
    "import numpy as np\n",
    "import seaborn as sns\n",
    "import matplotlib.pyplot as plt\n",
    "from scipy.optimize import brentq\n",
    "import math\n",
    "from ema_workbench import (RealParameter, ScalarOutcome, Constant, Model)\n",
    "import pyNetLogo\n",
    "from datetime import datetime\n",
    "from ema_workbench import (RealParameter, CategoricalParameter, ArrayOutcome, TimeSeriesOutcome, ema_logging,\n",
    "                           perform_experiments, MultiprocessingEvaluator)\n",
    "from ema_workbench import save_results\n",
    "\n",
    "filepath_model = './model'\n",
    "filepath_results = os.path.abspath(os.path.join(filepath_model, os.pardir)) + \"\\\\results\""
   ]
  },
  {
   "cell_type": "code",
   "execution_count": null,
   "metadata": {},
   "outputs": [],
   "source": [
    "multi_model = CombinedModel('UrbanEnergyTransition', wd=filepath_model)\n",
    "multi_model.vensim_model_file = 'SD_ema2.vpmx'\n",
    "multi_model.netlogo_model_file = 'ABM_ema.nlogo'\n"
   ]
  },
  {
   "cell_type": "code",
   "execution_count": null,
   "metadata": {
    "scrolled": false
   },
   "outputs": [],
   "source": [
    "start = datetime.now()\n",
    "\n",
    "# turn on logging\n",
    "ema_logging.log_to_stderr(ema_logging.INFO)\n",
    "\n",
    "# instantiate a model\n",
    "\n",
    "multi_model.uncertainties = [\n",
    "                             # High level System uncertainties\n",
    "                             RealParameter('SD_Base Investments Renewable', 0.025, 0.125),\n",
    "                             RealParameter('SD_Maximum cost reduction', 0.1, 0.5),                             \n",
    "                             RealParameter('SD_Green Gas investments', 1e8, 4e8), # current expectation = 1.7 (CE Delft)\n",
    "                             RealParameter('SD_Gas production cost ramp[Natural Gas]',-0.001, 0.001),\n",
    "                             RealParameter('SD_Gas production cost ramp[Green Gas]',-0.001, 0.001),\n",
    "                             RealParameter('SD_Grey electricity cost ramp', -0.001,0.001), #minimum is -0.001\n",
    "                             RealParameter('SD_Renewable Electricity cost multiplier', 0.5, 2),\n",
    "                             RealParameter('SD_Foreign renewable multiplier',0.5 , 2),\n",
    "                             # Economy Scenarios\n",
    "                             RealParameter('SD_Expected Period', 4, 10), \n",
    "                             RealParameter('SD_Expected Amplitude', 0.01, 0.05),\n",
    "                             # People uncertainties\n",
    "                             RealParameter('ABM_group-behaviour', 0, 1),\n",
    "                             RealParameter('ABM_Heat-company-ROI', 0.03, 0.15),\n",
    "                             RealParameter('ABM_Max-income-inv-share', 0.01, 0.15),\n",
    "                             RealParameter('ABM_Max-capital-inv-share', 0.01, 0.15),\n",
    "                             # Low level system uncertainties\n",
    "                             RealParameter('ABM_Relative-construction-capacity', 0.01, 0.1),\n",
    "                             CategoricalParameter('ABM_heating-grid-cost-scenario', ['\"High\"', '\"Low\"']) # Double quotes needed for netlogo\n",
    "                             ]\n",
    "\n",
    "\n",
    "multi_model.levers = [RealParameter('ABM_insulation-subsidy', 0, 0.5),\n",
    "                      RealParameter('ABM_LT-production-subsidy', 0, 0.5),\n",
    "                      RealParameter('ABM_LT-investment-subsidy', 0, 0.5),\n",
    "                      RealParameter('ABM_MT-production-subsidy', 0, 0.5),\n",
    "                      RealParameter('ABM_MT-investment-subsidy', 0, 0.5),\n",
    "                      RealParameter('SD_NMTU factor', 1, 2),\n",
    "                      RealParameter('SD_Tax multiplier', 0, 3), \n",
    "                      CategoricalParameter('SD_CO2 tax scheme', [0, 1 , 2]),\n",
    "                      CategoricalParameter('SD_Green gas transition scheme', [0, 1 , 2])\n",
    "                    ]\n",
    "\n",
    " # Specify Municipalties to save neighbourhood data\n",
    "multi_model.ABMsavelist = ['\"Amsterdam\"', '\"Rotterdam\"', '\"Hollands Kroon\"', '\"Nijmegen\"'] # Double quotes needed for netlogo\n",
    "\n",
    "multi_model.SD_subscripted_output = [['System Distributions', 'sub_mun-sys'],['Total Electricity use', 'mun_subs']]\n",
    "\n",
    "                                # subscript options implemented: ['mun_subs','sys_subs','ins_subs','sub_mun-sys']\n",
    "\n",
    "# FOR ABM: globals only\n",
    "multi_model.outcomes = [TimeSeriesOutcome('SD_Average Gas Price'),\n",
    "                        TimeSeriesOutcome('SD_Average Electricity Price'),\n",
    "                        TimeSeriesOutcome('SD_Average Heat Price'),\n",
    "                        TimeSeriesOutcome('SD_National Energy System Distribution[Natural Gas]'),\n",
    "                        TimeSeriesOutcome('SD_National Energy System Distribution[Green Gas]'),\n",
    "                        TimeSeriesOutcome('SD_National Energy System Distribution[LT Heating Grid]'),\n",
    "                        TimeSeriesOutcome('SD_National Energy System Distribution[MT Heating Grid]'),\n",
    "                        TimeSeriesOutcome('SD_National Energy System Distribution[HT Heating Grid]'),\n",
    "                        TimeSeriesOutcome('SD_National Energy System Distribution[Air Heat Pump]'),\n",
    "                        TimeSeriesOutcome('SD_National Energy System Distribution[Ground Heat Pump]'),\n",
    "                        TimeSeriesOutcome('SD_Cumulative CO2 emmissions'),\n",
    "                        TimeSeriesOutcome('SD_Percentage Renewable Electricity'),\n",
    "                        TimeSeriesOutcome('SD_CO2 Tax'),\n",
    "                        TimeSeriesOutcome('SD_Gas Trade[Natural Gas]'),\n",
    "                        TimeSeriesOutcome('SD_Gas Trade[Green Gas]'),\n",
    "                        TimeSeriesOutcome('SD_Electricity Trade'),\n",
    "                        ArrayOutcome('System Distributions'),\n",
    "                        ArrayOutcome('Total Electricity use'),\n",
    "                        ArrayOutcome('Neighbourhood Data'),\n",
    "                        ArrayOutcome('Municipality Data')\n",
    "                       ]\n",
    "\n",
    "multi_model.replications = 4\n",
    "\n",
    "#replications: 4\n",
    "#scenarios: 50\n",
    "#policies: 30\n",
    "\n",
    "#results = perform_experiments(multi_model, 1, 1)\n",
    "\n",
    "with MultiprocessingEvaluator(multi_model) as evaluator:\n",
    "    results = perform_experiments(multi_model, scenarios = 50, policies = 30,\n",
    "                                 evaluator=evaluator)\n",
    "\n",
    "end = datetime.now()\n",
    "\n",
    "print('Total experiments took ' + str(end-start))"
   ]
  },
  {
   "cell_type": "code",
   "execution_count": null,
   "metadata": {},
   "outputs": [],
   "source": [
    "no_categorical_results = ['SD_Average Gas Price', 'SD_Average Electricity Price', 'SD_Average Heat Price', 'SD_National Energy System Distribution[Natural Gas]', 'SD_National Energy System Distribution[Green Gas]', 'SD_National Energy System Distribution[LT Heating Grid]', 'SD_National Energy System Distribution[MT Heating Grid]', 'SD_National Energy System Distribution[HT Heating Grid]', 'SD_National Energy System Distribution[Air Heat Pump]', 'SD_National Energy System Distribution[Ground Heat Pump]', 'SD_Cumulative CO2 emmissions', 'SD_Percentage Renewable Electricity', 'SD_CO2 Tax', 'SD_Gas Trade[Natural Gas]', 'SD_Gas Trade[Green Gas]', 'SD_Electricity Trade','System Distributions', 'Total Electricity use', 'Municipality Data']"
   ]
  },
  {
   "cell_type": "code",
   "execution_count": null,
   "metadata": {
    "scrolled": true
   },
   "outputs": [],
   "source": [
    "results_mean = {k: results[1][k].mean(axis = 1) for k in no_categorical_results}\n",
    "# Splitting is necessary for allowing to save"
   ]
  },
  {
   "cell_type": "code",
   "execution_count": null,
   "metadata": {
    "scrolled": true
   },
   "outputs": [],
   "source": [
    "save_results((results[0],results_mean), filepath_results + '/results_50scen_30_pol_290620.gz.tar')"
   ]
  },
  {
   "cell_type": "code",
   "execution_count": null,
   "metadata": {
    "scrolled": false
   },
   "outputs": [],
   "source": [
    "#make batches of 100 scenarios/policies to save neighbourhood data\n",
    "n = math.ceil(len(results[1]['Neighbourhood Data'])/100)\n",
    "\n",
    "for i in range (n):\n",
    "    a_file = open(filepath_results + \"/Neighbourhood_results_290620_#\" + str(i)+  \".pkl\", \"wb\")\n",
    "    pickle.dump((results[0],results[1]['Neighbourhood Data'][i*100:i*100+100]), a_file)\n",
    "    a_file.close()\n",
    "    "
   ]
  },
  {
   "cell_type": "code",
   "execution_count": null,
   "metadata": {},
   "outputs": [],
   "source": []
  }
 ],
 "metadata": {
  "kernelspec": {
   "display_name": "Python 3",
   "language": "python",
   "name": "python3"
  },
  "language_info": {
   "codemirror_mode": {
    "name": "ipython",
    "version": 3
   },
   "file_extension": ".py",
   "mimetype": "text/x-python",
   "name": "python",
   "nbconvert_exporter": "python",
   "pygments_lexer": "ipython3",
   "version": "3.6.10"
  }
 },
 "nbformat": 4,
 "nbformat_minor": 4
}
