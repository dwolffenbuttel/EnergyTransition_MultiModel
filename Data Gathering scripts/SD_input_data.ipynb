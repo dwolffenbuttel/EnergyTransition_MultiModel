{
 "cells": [
  {
   "cell_type": "code",
   "execution_count": 1,
   "metadata": {},
   "outputs": [],
   "source": [
    "import pandas as pd\n",
    "import numpy as np\n",
    "from datetime import datetime\n",
    "\n",
    "filepath_processed = 'C:/Users/Dirk/Google Drive/Dirk/TU/Afstuderen/Afstuderen/Thesis/3. Formalisation/Processed CBS data/'\n",
    "filepath_raw = 'C:/Users/Dirk/Google Drive/Dirk/TU/Afstuderen/Afstuderen/Thesis/3. Formalisation/Raw CBS data/'\n",
    "filepath_other = 'C:/Users/Dirk/Google Drive/Dirk/TU/Afstuderen/Afstuderen/Thesis/3. Formalisation/Raw data other/'"
   ]
  },
  {
   "cell_type": "code",
   "execution_count": 2,
   "metadata": {
    "scrolled": true
   },
   "outputs": [
    {
     "name": "stderr",
     "output_type": "stream",
     "text": [
      "C:\\Users\\Dirk\\Anaconda3\\lib\\site-packages\\IPython\\core\\interactiveshell.py:3063: DtypeWarning: Columns (12) have mixed types. Specify dtype option on import or set low_memory=False.\n",
      "  interactivity=interactivity, compiler=compiler, result=result)\n",
      "C:\\Users\\Dirk\\Anaconda3\\lib\\site-packages\\numpy\\lib\\arraysetops.py:472: FutureWarning: elementwise comparison failed; returning scalar instead, but in the future will perform elementwise comparison\n",
      "  mask |= (ar1 == a)\n"
     ]
    },
    {
     "name": "stdout",
     "output_type": "stream",
     "text": [
      "Loading huge dataset took: 33.285 seconds\n"
     ]
    }
   ],
   "source": [
    "#timeit.timeit(pd.read_csv(filepath_processed + 'Total_dataset.csv'))\n",
    "start = datetime.now()\n",
    "data =  pd.read_csv(filepath_processed + 'Total_dataset.csv', index_col = 0, \n",
    "                    dtype = {'gemeente': str ,'postcode': str ,'huisnummer' : int ,\n",
    "                             'huisletter': str ,'huisnummertoevoeging': str , \n",
    "                             'oppervlakteverblijfsobject' : float ,'pandbouwjaar' : int ,\n",
    "                             'openbareruimte' : str ,'pandstatus' : str , 'Woningkenmerken': str ,\n",
    "                             'Energielabel' : str,'leeftijd' : int ,'Age group': str, \n",
    "                             'GebruiksOppervlakteklasse' : str,'Bouwjaarklasse' : str,\n",
    "                             'gasverbruik m3/m2' : float ,'geschat gasverbruik jaarlijks' : float, \n",
    "                             'Gemiddelde grootte huishouden' : float , \n",
    "                             'elektriciteits verbruik pp' : float , \n",
    "                             'geschat elektriciteitsverbruik jaarlijks' : float})\n",
    "\n",
    "print ('Loading huge dataset took: ' + str((datetime.now()-start).total_seconds()) + ' seconds')\n",
    "\n",
    "buurten = pd.read_csv(filepath_raw + 'postcode_huisnummer_buurten.csv',delimiter = ';')\n",
    "wijk = pd.read_csv(filepath_raw + 'wijk2019.csv', delimiter = ';')\n",
    "buurt = pd.read_csv(filepath_raw + 'buurt2019.csv', delimiter = ';')\n"
   ]
  },
  {
   "cell_type": "code",
   "execution_count": 4,
   "metadata": {},
   "outputs": [],
   "source": [
    "df_total = data"
   ]
  },
  {
   "cell_type": "code",
   "execution_count": 9,
   "metadata": {},
   "outputs": [],
   "source": [
    "#Count entries per age group, sort so that vensim will understand and fill NaN's with 0's for non existing age groups in municipalities\n",
    "count_agg_age = df_total.groupby(by = ['gemeente', 'Age group'], sort = False).count()[['openbareruimte']]\n",
    "count_agg_age = count_agg_age.reset_index().pivot(index='gemeente', columns='Age group', values='openbareruimte')\n",
    "count_agg_age = count_agg_age[['Age0to9','Age10to19','Age20to29','Age30to39','Age40to49','Age50to59','Age60to69','Age70to79','Age80to89','Age90to99','Age100plus']].fillna(0)"
   ]
  },
  {
   "cell_type": "code",
   "execution_count": 10,
   "metadata": {},
   "outputs": [],
   "source": [
    "#Save to Excel\n",
    "count_agg_age.to_csv(filepath_processed + 'Initial Housing Stock.csv')\n"
   ]
  },
  {
   "cell_type": "code",
   "execution_count": 11,
   "metadata": {},
   "outputs": [],
   "source": [
    "mean_agg_gas_use = df_total.groupby(by = ['gemeente', 'Age group'], sort = False).mean()[['geschat gasverbruik jaarlijks']]\n",
    "mean_agg_gas_use = mean_agg_gas_use.reset_index().pivot(index='gemeente', columns='Age group', values='geschat gasverbruik jaarlijks')\n",
    "mean_agg_gas_use = mean_agg_gas_use[['Age0to9','Age10to19','Age20to29','Age30to39','Age40to49','Age50to59','Age60to69','Age70to79','Age80to89','Age90to99','Age100plus']].ffill(axis = 1)"
   ]
  },
  {
   "cell_type": "code",
   "execution_count": 12,
   "metadata": {},
   "outputs": [],
   "source": [
    "mean_agg_gas_use.to_csv(filepath_processed + 'Initial Gas use.csv')"
   ]
  },
  {
   "cell_type": "code",
   "execution_count": 14,
   "metadata": {},
   "outputs": [],
   "source": [
    "average_age_100plus_municipal = df_total.groupby(by = ['gemeente', 'Age group']).mean()[['leeftijd']]\n",
    "average_age_100plus_municipal = average_age_100plus_municipal.pivot_table(index = \"gemeente\", columns = \"Age group\", values = 'leeftijd')[['Age100plus']].fillna(100)"
   ]
  },
  {
   "cell_type": "code",
   "execution_count": 15,
   "metadata": {},
   "outputs": [],
   "source": [
    "average_age_100plus_municipal.to_csv(filepath_processed + 'Average age 100plus.csv')"
   ]
  },
  {
   "cell_type": "code",
   "execution_count": 21,
   "metadata": {},
   "outputs": [],
   "source": [
    "# Group by municipality, age group,\n",
    "mean_elec_age = df_total.groupby(by = ['gemeente', 'Age group'], sort = True).mean()[['geschat elektriciteitsverbruik jaarlijks']]\n",
    "mean_elec_age = mean_elec_age.pivot_table(index=['gemeente'], columns=['Age group'], values=['geschat elektriciteitsverbruik jaarlijks'])['geschat elektriciteitsverbruik jaarlijks']\n",
    "mean_elec_age = mean_elec_age[['Age0to9','Age10to19','Age20to29','Age30to39','Age40to49','Age50to59','Age60to69','Age70to79','Age80to89','Age90to99','Age100plus']].sort_index()\n",
    "mean_elec_age = mean_elec_age.ffill(axis =1)\n"
   ]
  },
  {
   "cell_type": "code",
   "execution_count": 22,
   "metadata": {},
   "outputs": [],
   "source": [
    "mean_elec_age.to_csv(filepath_processed + 'Initial Electricity use.csv')"
   ]
  },
  {
   "cell_type": "code",
   "execution_count": null,
   "metadata": {},
   "outputs": [],
   "source": []
  }
 ],
 "metadata": {
  "kernelspec": {
   "display_name": "Python 3",
   "language": "python",
   "name": "python3"
  },
  "language_info": {
   "codemirror_mode": {
    "name": "ipython",
    "version": 3
   },
   "file_extension": ".py",
   "mimetype": "text/x-python",
   "name": "python",
   "nbconvert_exporter": "python",
   "pygments_lexer": "ipython3",
   "version": "3.6.10"
  }
 },
 "nbformat": 4,
 "nbformat_minor": 4
}
