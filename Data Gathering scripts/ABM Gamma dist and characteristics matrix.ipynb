{
 "cells": [
  {
   "cell_type": "code",
   "execution_count": 1,
   "metadata": {},
   "outputs": [],
   "source": [
    "import pandas as pd\n",
    "import numpy as np\n",
    "from datetime import datetime\n",
    "\n",
    "filepath_processed = 'C:/Users/Dirk/Google Drive/Dirk/TU/Afstuderen/Afstuderen/Thesis/3. Formalisation/Processed CBS data/'\n",
    "filepath_raw = 'C:/Users/Dirk/Google Drive/Dirk/TU/Afstuderen/Afstuderen/Thesis/3. Formalisation/Raw CBS data/'\n",
    "filepath_other = 'C:/Users/Dirk/Google Drive/Dirk/TU/Afstuderen/Afstuderen/Thesis/3. Formalisation/Raw data other/'"
   ]
  },
  {
   "cell_type": "code",
   "execution_count": 2,
   "metadata": {},
   "outputs": [
    {
     "name": "stderr",
     "output_type": "stream",
     "text": [
      "C:\\Users\\Dirk\\Anaconda3\\lib\\site-packages\\IPython\\core\\interactiveshell.py:3063: DtypeWarning: Columns (12) have mixed types. Specify dtype option on import or set low_memory=False.\n",
      "  interactivity=interactivity, compiler=compiler, result=result)\n",
      "C:\\Users\\Dirk\\Anaconda3\\lib\\site-packages\\numpy\\lib\\arraysetops.py:472: FutureWarning: elementwise comparison failed; returning scalar instead, but in the future will perform elementwise comparison\n",
      "  mask |= (ar1 == a)\n"
     ]
    },
    {
     "name": "stdout",
     "output_type": "stream",
     "text": [
      "Loading huge dataset took: 33.644887 seconds\n"
     ]
    }
   ],
   "source": [
    "#timeit.timeit(pd.read_csv(filepath_processed + 'Total_dataset.csv'))\n",
    "start = datetime.now()\n",
    "data =  pd.read_csv(filepath_processed + 'Total_dataset.csv', index_col = 0, \n",
    "                    dtype = {'gemeente': str ,'postcode': str ,'huisnummer' : int ,\n",
    "                             'huisletter': str ,'huisnummertoevoeging': str , \n",
    "                             'oppervlakteverblijfsobject' : float ,'pandbouwjaar' : int ,\n",
    "                             'openbareruimte' : str ,'pandstatus' : str , 'Woningkenmerken': str ,\n",
    "                             'Energielabel' : str,'leeftijd' : int ,'Age group': str, \n",
    "                             'GebruiksOppervlakteklasse' : str,'Bouwjaarklasse' : str,\n",
    "                             'gasverbruik m3/m2' : float ,'geschat gasverbruik jaarlijks' : float, \n",
    "                             'Gemiddelde grootte huishouden' : float , \n",
    "                             'elektriciteits verbruik pp' : float , \n",
    "                             'geschat elektriciteitsverbruik jaarlijks' : float})\n",
    "\n",
    "print ('Loading huge dataset took: ' + str((datetime.now()-start).total_seconds()) + ' seconds')\n",
    "\n",
    "buurten = pd.read_csv(filepath_raw + 'postcode_huisnummer_buurten.csv',delimiter = ';')\n",
    "wijk = pd.read_csv(filepath_raw + 'wijk2019.csv', delimiter = ';')\n",
    "buurt = pd.read_csv(filepath_raw + 'buurt2019.csv', delimiter = ';')\n"
   ]
  },
  {
   "cell_type": "code",
   "execution_count": 3,
   "metadata": {},
   "outputs": [],
   "source": [
    "wijk_dict = wijk.astype(str).set_index('Wijkcode2019').to_dict()['Wijknaam_2019K_NAAM']\n",
    "buurt.Buurtcode_2019 = buurt.Buurtcode_2019.astype(str)\n",
    "buurt_dict = buurt.set_index('Buurtcode_2019').to_dict()['Buurtnaam_2019']\n",
    "\n",
    "buurten[['Buurt2019']]= buurten[['Buurt2019']].astype(str)\n",
    "buurten[['Wijk2019']] = buurten[['Wijk2019']].astype(str)\n",
    "buurten['buurt_naam'] = buurten['Buurt2019'].map(buurt_dict)\n",
    "buurten['wijk_naam'] = buurten['Wijk2019'].map(wijk_dict)\n",
    "buurten = buurten.drop(['Buurt2019','Wijk2019','Gemeente2019'], axis = 1).rename(columns = {'PC6':'postcode','Huisnummer':'huisnummer'})"
   ]
  },
  {
   "cell_type": "code",
   "execution_count": 4,
   "metadata": {},
   "outputs": [],
   "source": [
    "#Hier aanpassing\n",
    "data = data.merge(buurten, on = ['postcode','huisnummer'], how = 'inner')"
   ]
  },
  {
   "cell_type": "code",
   "execution_count": 6,
   "metadata": {},
   "outputs": [],
   "source": [
    "data2 = data.drop(['pandstatus','Bouwjaarklasse', 'Gemiddelde grootte huishouden', 'elektriciteits verbruik pp', 'leeftijd','openbareruimte','postcode', 'huisnummer', 'huisnummertoevoeging','huisletter','pandbouwjaar'],axis =1)"
   ]
  },
  {
   "cell_type": "code",
   "execution_count": 7,
   "metadata": {},
   "outputs": [],
   "source": [
    "investment_cost = pd.read_csv(filepath_other + 'investment cost CE_Delft.csv')\n",
    "energy_savings = pd.read_csv(filepath_other + 'Energy savings CE_Delft.csv')\n",
    "investment_cost.Schil = investment_cost.Schil.str.strip('Huidig ')\n",
    "energy_savings.Schil = energy_savings.Schil.str.strip('Huidig ')\n",
    "i_dict = investment_cost.set_index(['Schil', 'Woningtype']).to_dict()\n",
    "e_dict = energy_savings.set_index('Schil').to_dict()"
   ]
  },
  {
   "cell_type": "code",
   "execution_count": 8,
   "metadata": {},
   "outputs": [
    {
     "data": {
      "text/plain": [
       "0    G\n",
       "1    F\n",
       "2    E\n",
       "3    D\n",
       "4    C\n",
       "5    B\n",
       "6    A\n",
       "Name: Schil, dtype: object"
      ]
     },
     "execution_count": 8,
     "metadata": {},
     "output_type": "execute_result"
    }
   ],
   "source": [
    "energy_savings.Schil[0:7]"
   ]
  },
  {
   "cell_type": "code",
   "execution_count": 9,
   "metadata": {},
   "outputs": [],
   "source": [
    "stapel_dict = {'Appartement':'Gestapeld','2-onder-1-kapwoning':'Grondgebonden','Hoekwoning':'Grondgebonden','Tussenwoning':'Grondgebonden','Vrijstaande woning':'Grondgebonden','O':'Grondgebonden','N':'Grondgebonden','C0':'Grondgebonden'}\n",
    "data2['Type'] = data2['Woningkenmerken'].map(stapel_dict)\n",
    "gamma_vars = []\n",
    "for i in energy_savings.Schil[1:7]:\n",
    "    for j in ['Grondgebonden','Gestapeld']:\n",
    "\n",
    "        data2['Yearly savings ' + i + ' (m3)'] = data2['geschat gasverbruik jaarlijks'] * data2['Energielabel'].map(e_dict[i])\n",
    "        data2['Total cost '+ i ] = data2['oppervlakteverblijfsobject'] * pd.Series(list(zip(data2['Energielabel'],data2['Type']))).map(i_dict[i])\n",
    "        data2['Savings / cost ' + i] = data2['Yearly savings ' + i + ' (m3)'] / data2['Total cost '+ i]\n",
    "        gamma_vars.extend(['Total cost '+ i,'Savings / cost ' + i])"
   ]
  },
  {
   "cell_type": "code",
   "execution_count": 10,
   "metadata": {},
   "outputs": [],
   "source": [
    "#For calculating gamma distribution\n",
    "def alpha(x):\n",
    "    if x.var() > 0:\n",
    "        return x.mean()**2 / x.var()\n",
    "    else:\n",
    "        return 1\n",
    "def theta(x):\n",
    "    if x.var() > 0:\n",
    "        return x.var() / x.mean()\n",
    "    else:\n",
    "        return 1\n",
    "    \n",
    "agg_dict = {}\n",
    "for i in gamma_vars :\n",
    "    agg_dict[i] = ['mean', alpha, theta]\n",
    "\n",
    "#data3.groupby(by = ['gemeente','buurt_naam']).agg(['min','mean','max','std', alpha, theta])\n",
    "data3 = data2.drop(['oppervlakteverblijfsobject','Energielabel','geschat elektriciteitsverbruik jaarlijks','geschat gasverbruik jaarlijks', 'gasverbruik m3/m2'],axis =1)\n",
    "\n",
    "gamma_dist = data3.groupby(by = ['gemeente','buurt_naam']).agg(agg_dict)#{gamma_vars : ['mean', alpha, theta]})"
   ]
  },
  {
   "cell_type": "code",
   "execution_count": 11,
   "metadata": {},
   "outputs": [],
   "source": [
    "gamma_dist.to_csv(filepath_processed + 'total_gamma.csv')"
   ]
  },
  {
   "cell_type": "code",
   "execution_count": 12,
   "metadata": {},
   "outputs": [],
   "source": [
    "age_group = data3.groupby(by = ['gemeente','buurt_naam'])['Age group'].value_counts()#,'Age group'], sort = False).count()['Woningkenmerken'].reset_index()\n",
    "woningkenmerken = data3.groupby(by = ['gemeente','buurt_naam'])['Woningkenmerken'].value_counts()\n",
    "oppervlakte = data3.groupby(by = ['gemeente','buurt_naam'])['GebruiksOppervlakteklasse'].value_counts()\n",
    "age_group = age_group.to_frame().unstack().fillna(0)['Age group'][['Age0to9','Age10to19','Age20to29','Age30to39','Age40to49','Age50to59','Age60to69','Age70to79','Age80to89','Age90to99','Age100plus']]#.reset_index()\n",
    "woningkenmerken = woningkenmerken.to_frame().unstack().fillna(0)['Woningkenmerken'][['2-onder-1-kapwoning', 'Appartement', 'Hoekwoning', 'Tussenwoning', 'Vrijstaande woning']]\n",
    "oppervlakte = oppervlakte.to_frame().unstack().fillna(0)['GebruiksOppervlakteklasse'][['15 tot 50 m2','50 tot 75 m2', '75 tot 100 m2', '100 tot 150 m2', '150 tot 250 m2', '250 tot 500 m2']]\n",
    "total = data3.groupby(by = ['gemeente','buurt_naam']).count().max(axis = 1)"
   ]
  },
  {
   "cell_type": "code",
   "execution_count": 13,
   "metadata": {},
   "outputs": [],
   "source": [
    "for i in woningkenmerken.columns:\n",
    "    woningkenmerken[i] = woningkenmerken[i] / total\n",
    "for i in age_group.columns:\n",
    "    age_group[i] = age_group[i] / total\n",
    "for i in oppervlakte.columns:\n",
    "    oppervlakte[i] = oppervlakte[i] / total"
   ]
  },
  {
   "cell_type": "code",
   "execution_count": 14,
   "metadata": {},
   "outputs": [],
   "source": [
    "pd.concat([total, woningkenmerken,oppervlakte,age_group], axis = 1).rename(columns = {0 :'total'}).to_csv(filepath_processed + 'total_characteristics.csv')"
   ]
  },
  {
   "cell_type": "code",
   "execution_count": null,
   "metadata": {},
   "outputs": [],
   "source": []
  },
  {
   "cell_type": "code",
   "execution_count": null,
   "metadata": {},
   "outputs": [],
   "source": []
  }
 ],
 "metadata": {
  "kernelspec": {
   "display_name": "Python 3",
   "language": "python",
   "name": "python3"
  },
  "language_info": {
   "codemirror_mode": {
    "name": "ipython",
    "version": 3
   },
   "file_extension": ".py",
   "mimetype": "text/x-python",
   "name": "python",
   "nbconvert_exporter": "python",
   "pygments_lexer": "ipython3",
   "version": "3.6.10"
  }
 },
 "nbformat": 4,
 "nbformat_minor": 2
}
