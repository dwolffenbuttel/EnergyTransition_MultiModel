{
 "cells": [
  {
   "cell_type": "code",
   "execution_count": 1,
   "metadata": {},
   "outputs": [],
   "source": [
    "import pandas as pd\n",
    "import numpy as np\n",
    "from datetime import datetime\n",
    "\n",
    "filepath_processed = 'C:/Users/Dirk/Google Drive/Dirk/TU/Afstuderen/Afstuderen/Thesis/3. Formalisation/Processed CBS data/'\n",
    "filepath_raw = 'C:/Users/Dirk/Google Drive/Dirk/TU/Afstuderen/Afstuderen/Thesis/3. Formalisation/Raw CBS data/'"
   ]
  },
  {
   "cell_type": "code",
   "execution_count": 2,
   "metadata": {},
   "outputs": [
    {
     "name": "stderr",
     "output_type": "stream",
     "text": [
      "C:\\Users\\Dirk\\Anaconda3\\lib\\site-packages\\IPython\\core\\interactiveshell.py:3063: DtypeWarning: Columns (5,12) have mixed types. Specify dtype option on import or set low_memory=False.\n",
      "  interactivity=interactivity, compiler=compiler, result=result)\n",
      "C:\\Users\\Dirk\\Anaconda3\\lib\\site-packages\\numpy\\lib\\arraysetops.py:472: FutureWarning: elementwise comparison failed; returning scalar instead, but in the future will perform elementwise comparison\n",
      "  mask |= (ar1 == a)\n"
     ]
    },
    {
     "name": "stdout",
     "output_type": "stream",
     "text": [
      "Loading huge dataset took: 43.630836 seconds\n"
     ]
    }
   ],
   "source": [
    "#timeit.timeit(pd.read_csv(filepath_processed + 'Total_dataset.csv'))\n",
    "start = datetime.now()\n",
    "data =  pd.read_csv(filepath_processed + 'Total_dataset.csv', index_col = 0)\n",
    "print ('Loading huge dataset took: ' + str((datetime.now()-start).total_seconds()) + ' seconds')"
   ]
  },
  {
   "cell_type": "code",
   "execution_count": 3,
   "metadata": {},
   "outputs": [],
   "source": [
    "buurten = pd.read_csv(filepath_raw + 'postcode_huisnummer_buurten.csv',delimiter = ';')"
   ]
  },
  {
   "cell_type": "code",
   "execution_count": 4,
   "metadata": {},
   "outputs": [],
   "source": [
    "buurt = pd.read_csv(filepath_raw + 'buurt2019.csv', delimiter = ';')"
   ]
  },
  {
   "cell_type": "code",
   "execution_count": 5,
   "metadata": {},
   "outputs": [],
   "source": [
    "wijk = pd.read_csv(filepath_raw + 'wijk2019.csv', delimiter = ';')"
   ]
  },
  {
   "cell_type": "code",
   "execution_count": 6,
   "metadata": {},
   "outputs": [],
   "source": [
    "wijk_dict = wijk.astype(str).set_index('Wijkcode2019').to_dict()['Wijknaam_2019K_NAAM']"
   ]
  },
  {
   "cell_type": "code",
   "execution_count": 7,
   "metadata": {},
   "outputs": [],
   "source": [
    "buurt.Buurtcode_2019 = buurt.Buurtcode_2019.astype(str)\n",
    "buurt_dict = buurt.set_index('Buurtcode_2019').to_dict()['Buurtnaam_2019']\n",
    "buurten[['Buurt2019']]= buurten[['Buurt2019']].astype(str)"
   ]
  },
  {
   "cell_type": "code",
   "execution_count": 8,
   "metadata": {},
   "outputs": [],
   "source": [
    "buurten[['Wijk2019']] = buurten[['Wijk2019']].astype(str)\n",
    "buurten['buurt_naam'] = buurten['Buurt2019'].map(buurt_dict)\n",
    "buurten['wijk_naam'] = buurten['Wijk2019'].map(wijk_dict)"
   ]
  },
  {
   "cell_type": "code",
   "execution_count": 9,
   "metadata": {},
   "outputs": [],
   "source": [
    "buurten = buurten.drop(['Buurt2019','Wijk2019','Gemeente2019'], axis = 1).rename(columns = {'PC6':'postcode','Huisnummer':'huisnummer'})"
   ]
  },
  {
   "cell_type": "code",
   "execution_count": 10,
   "metadata": {},
   "outputs": [],
   "source": [
    "data = data.merge(buurten, on = ['postcode','huisnummer'])"
   ]
  },
  {
   "cell_type": "code",
   "execution_count": 11,
   "metadata": {},
   "outputs": [],
   "source": [
    "buurt_data_elabel = data.groupby(by = ['gemeente','buurt_naam','Energielabel']).count()[['postcode']]"
   ]
  },
  {
   "cell_type": "code",
   "execution_count": 12,
   "metadata": {},
   "outputs": [],
   "source": [
    "buurten_elabels = buurt_data_elabel.pivot_table(index = ['gemeente','buurt_naam'], columns = 'Energielabel', values = 'postcode').fillna(0)"
   ]
  },
  {
   "cell_type": "code",
   "execution_count": 13,
   "metadata": {},
   "outputs": [],
   "source": [
    "buurten_elabels['total'] = buurten_elabels.sum(axis = 1)"
   ]
  },
  {
   "cell_type": "code",
   "execution_count": 14,
   "metadata": {},
   "outputs": [],
   "source": [
    "for i in buurten_elabels.columns[:-1]:\n",
    "    buurten_elabels[i] = buurten_elabels[i] / buurten_elabels.total\n",
    "buurten_elabels = buurten_elabels.reindex(buurten_elabels.columns.sort_values(ascending = False), axis=1)"
   ]
  },
  {
   "cell_type": "code",
   "execution_count": 15,
   "metadata": {},
   "outputs": [],
   "source": [
    "buurt_mean_gas = data.groupby(by = ['gemeente', 'buurt_naam']).mean()[['geschat gasverbruik jaarlijks']]"
   ]
  },
  {
   "cell_type": "code",
   "execution_count": 16,
   "metadata": {},
   "outputs": [],
   "source": [
    "# multiply by 8.79 to convert to kWh, divide by 1650 for connection value (vollasturen)\n",
    "buurten_elabels['Mean connection value'] = buurt_mean_gas * 8.79167 / 1650"
   ]
  },
  {
   "cell_type": "code",
   "execution_count": 17,
   "metadata": {},
   "outputs": [],
   "source": [
    "#Monuments\n",
    "buurten_elabels['Share Monuments'] = data.groupby(by = ['gemeente','buurt_naam']).count()['CBSCATEGOR'] / buurten_elabels['total']"
   ]
  },
  {
   "cell_type": "code",
   "execution_count": 18,
   "metadata": {},
   "outputs": [],
   "source": [
    "buurten_elabels.to_csv(filepath_processed + 'buurten_elabels.csv')"
   ]
  },
  {
   "cell_type": "code",
   "execution_count": null,
   "metadata": {},
   "outputs": [],
   "source": []
  }
 ],
 "metadata": {
  "kernelspec": {
   "display_name": "Python 3",
   "language": "python",
   "name": "python3"
  },
  "language_info": {
   "codemirror_mode": {
    "name": "ipython",
    "version": 3
   },
   "file_extension": ".py",
   "mimetype": "text/x-python",
   "name": "python",
   "nbconvert_exporter": "python",
   "pygments_lexer": "ipython3",
   "version": "3.6.10"
  }
 },
 "nbformat": 4,
 "nbformat_minor": 2
}
