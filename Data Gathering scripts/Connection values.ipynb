{
 "cells": [
  {
   "cell_type": "code",
   "execution_count": 1,
   "metadata": {},
   "outputs": [],
   "source": [
    "import pandas as pd\n",
    "import numpy as np\n",
    "from datetime import datetime\n",
    "\n",
    "filepath_processed = 'C:/Users/Dirk/Google Drive/Dirk/TU/Afstuderen/Afstuderen/Thesis/3. Formalisation/Processed CBS data/'\n",
    "filepath_raw = 'C:/Users/Dirk/Google Drive/Dirk/TU/Afstuderen/Afstuderen/Thesis/3. Formalisation/Raw CBS data/'\n",
    "filepath_other = 'C:/Users/Dirk/Google Drive/Dirk/TU/Afstuderen/Afstuderen/Thesis/3. Formalisation/Raw data other/'"
   ]
  },
  {
   "cell_type": "code",
   "execution_count": 2,
   "metadata": {},
   "outputs": [
    {
     "name": "stderr",
     "output_type": "stream",
     "text": [
      "C:\\Users\\Dirk\\Anaconda3\\lib\\site-packages\\IPython\\core\\interactiveshell.py:3063: DtypeWarning: Columns (12) have mixed types.Specify dtype option on import or set low_memory=False.\n",
      "  interactivity=interactivity, compiler=compiler, result=result)\n",
      "C:\\Users\\Dirk\\Anaconda3\\lib\\site-packages\\numpy\\lib\\arraysetops.py:472: FutureWarning: elementwise comparison failed; returning scalar instead, but in the future will perform elementwise comparison\n",
      "  mask |= (ar1 == a)\n"
     ]
    },
    {
     "name": "stdout",
     "output_type": "stream",
     "text": [
      "Loading huge dataset took: 29.688393 seconds\n"
     ]
    }
   ],
   "source": [
    "#timeit.timeit(pd.read_csv(filepath_processed + 'Total_dataset.csv'))\n",
    "start = datetime.now()\n",
    "data =  pd.read_csv(filepath_processed + 'Total_dataset.csv', index_col = 0, \n",
    "                    dtype = {'gemeente': str ,'postcode': str ,'huisnummer' : int ,\n",
    "                             'huisletter': str ,'huisnummertoevoeging': str , \n",
    "                             'oppervlakteverblijfsobject' : float ,'pandbouwjaar' : int ,\n",
    "                             'openbareruimte' : str ,'pandstatus' : str , 'Woningkenmerken': str ,\n",
    "                             'Energielabel' : str,'leeftijd' : int ,'Age group': str, \n",
    "                             'GebruiksOppervlakteklasse' : str,'Bouwjaarklasse' : str,\n",
    "                             'gasverbruik m3/m2' : float ,'geschat gasverbruik jaarlijks' : float, \n",
    "                             'Gemiddelde grootte huishouden' : float , \n",
    "                             'elektriciteits verbruik pp' : float , \n",
    "                             'geschat elektriciteitsverbruik jaarlijks' : float})\n",
    "\n",
    "print ('Loading huge dataset took: ' + str((datetime.now()-start).total_seconds()) + ' seconds')\n",
    "\n",
    "buurten = pd.read_csv(filepath_raw + 'postcode_huisnummer_buurten.csv',delimiter = ';')\n",
    "wijk = pd.read_csv(filepath_raw + 'wijk2019.csv', delimiter = ';')\n",
    "buurt = pd.read_csv(filepath_raw + 'buurt2019.csv', delimiter = ';')\n"
   ]
  },
  {
   "cell_type": "code",
   "execution_count": 3,
   "metadata": {},
   "outputs": [],
   "source": [
    "wijk_dict = wijk.astype(str).set_index('Wijkcode2019').to_dict()['Wijknaam_2019K_NAAM']\n",
    "buurt.Buurtcode_2019 = buurt.Buurtcode_2019.astype(str)\n",
    "buurt_dict = buurt.set_index('Buurtcode_2019').to_dict()['Buurtnaam_2019']\n",
    "\n",
    "buurten[['Buurt2019']]= buurten[['Buurt2019']].astype(str)\n",
    "buurten[['Wijk2019']] = buurten[['Wijk2019']].astype(str)\n",
    "buurten['buurt_naam'] = buurten['Buurt2019'].map(buurt_dict)\n",
    "buurten['wijk_naam'] = buurten['Wijk2019'].map(wijk_dict)\n",
    "buurten = buurten.drop(['Buurt2019','Wijk2019','Gemeente2019'], axis = 1).rename(columns = {'PC6':'postcode','Huisnummer':'huisnummer'})"
   ]
  },
  {
   "cell_type": "code",
   "execution_count": 4,
   "metadata": {},
   "outputs": [],
   "source": [
    "data = data.merge(buurten, on = ['postcode','huisnummer'], how = 'inner')"
   ]
  },
  {
   "cell_type": "code",
   "execution_count": 5,
   "metadata": {},
   "outputs": [
    {
     "data": {
      "text/plain": [
       "Index(['gemeente', 'postcode', 'huisnummer', 'huisletter',\n",
       "       'huisnummertoevoeging', 'oppervlakteverblijfsobject', 'pandbouwjaar',\n",
       "       'openbareruimte', 'pandstatus', 'Woningkenmerken', 'Energielabel',\n",
       "       'CBSCATEGOR', 'RIJKSMONNR', 'leeftijd', 'Age group',\n",
       "       'GebruiksOppervlakteklasse', 'Bouwjaarklasse', 'gasverbruik m3/m2',\n",
       "       'geschat gasverbruik jaarlijks', 'Gemiddelde grootte huishouden',\n",
       "       'elektriciteits verbruik pp',\n",
       "       'geschat elektriciteitsverbruik jaarlijks', 'buurt_naam', 'wijk_naam'],\n",
       "      dtype='object')"
      ]
     },
     "execution_count": 5,
     "metadata": {},
     "output_type": "execute_result"
    }
   ],
   "source": [
    "data.columns"
   ]
  },
  {
   "cell_type": "code",
   "execution_count": 6,
   "metadata": {},
   "outputs": [],
   "source": [
    "e_use = data[['gemeente', 'buurt_naam','oppervlakteverblijfsobject','GebruiksOppervlakteklasse','geschat gasverbruik jaarlijks', 'Energielabel']]"
   ]
  },
  {
   "cell_type": "code",
   "execution_count": 7,
   "metadata": {},
   "outputs": [],
   "source": [
    "def alpha(x):\n",
    "    if x.var() > 0:\n",
    "        return x.mean()**2 / x.var()\n",
    "    else:\n",
    "        return 1\n",
    "def theta(x):\n",
    "    if x.var() > 0:\n",
    "        return x.var() / x.mean()\n",
    "    else:\n",
    "        return 1\n",
    "    \n",
    "agg_list = ['mean', alpha, theta]"
   ]
  },
  {
   "cell_type": "code",
   "execution_count": 8,
   "metadata": {},
   "outputs": [],
   "source": [
    "energy_savings = pd.read_csv(filepath_other + 'Energy savings CE_Delft.csv')\n",
    "energy_savings.Schil = energy_savings.Schil.str.strip('Huidig ')\n",
    "e_dict = energy_savings.set_index('Schil').to_dict()"
   ]
  },
  {
   "cell_type": "code",
   "execution_count": 9,
   "metadata": {
    "scrolled": true
   },
   "outputs": [],
   "source": [
    "e_use_kwh = e_use.copy()\n",
    "e_use_kwh['geschat gasverbruik jaarlijks (kWh)'] = e_use['geschat gasverbruik jaarlijks'] * 31.65 / 3.6 "
   ]
  },
  {
   "cell_type": "code",
   "execution_count": 10,
   "metadata": {},
   "outputs": [],
   "source": [
    "e_use_kwh['pot. energy use at A'] = e_use_kwh['geschat gasverbruik jaarlijks (kWh)'] * (1 - e_use_kwh.Energielabel.map(e_dict['A']))\n",
    "e_use_kwh['pot. energy use at B'] = e_use_kwh['geschat gasverbruik jaarlijks (kWh)'] * (1 - e_use_kwh.Energielabel.map(e_dict['B']))"
   ]
  },
  {
   "cell_type": "code",
   "execution_count": 11,
   "metadata": {},
   "outputs": [],
   "source": [
    "# methode vollasturen: (1650 vollasturen) \n",
    "# https://warmtepomp-tips.nl/warmtepomp/woning-geschiktheid/\n",
    "# https://installtek.nl/informatie/indicatietabellen\n",
    "\n",
    "\n",
    "e_use_kwh['Current Connection value (kW)'] = e_use_kwh['geschat gasverbruik jaarlijks (kWh)'] / 1650\n",
    "e_use_kwh['Connection value at A'] = e_use_kwh['pot. energy use at A'] / 1650\n",
    "e_use_kwh['Connection value at B'] = e_use_kwh['pot. energy use at B'] / 1650"
   ]
  },
  {
   "cell_type": "code",
   "execution_count": 12,
   "metadata": {},
   "outputs": [],
   "source": [
    "# Calculate thresholdvalues: ROI / (gasP- (Elec-P/efficiency)) < e-use / (Cfixed + Cvar * connectionValue)\n",
    "# Cfixed & Cvar from PBL: Vesta \n",
    "A_HPfixed = 5359\n",
    "A_HPvar = 320\n",
    "G_HPfixed = 8460\n",
    "G_HPvar = 573\n",
    "\n",
    "e_use_kwh['investment cost A-HP at A'] = A_HPfixed + A_HPvar * e_use_kwh['Connection value at A']\n",
    "e_use_kwh['investment cost G-HP at A'] = G_HPfixed + G_HPvar * e_use_kwh['Connection value at A']\n",
    "e_use_kwh['investment cost A-HP at B'] = A_HPfixed + A_HPvar * e_use_kwh['Connection value at B']\n",
    "e_use_kwh['investment cost G-HP at B'] = G_HPfixed + G_HPvar * e_use_kwh['Connection value at B']\n",
    "\n",
    "e_use_kwh['threshold A-HP at A'] = e_use_kwh['pot. energy use at A'] / e_use_kwh['investment cost A-HP at A']\n",
    "e_use_kwh['threshold G-HP at A'] = e_use_kwh['pot. energy use at A'] / e_use_kwh['investment cost G-HP at A']\n",
    "e_use_kwh['threshold A-HP at B'] = e_use_kwh['pot. energy use at B'] / e_use_kwh['investment cost A-HP at B']\n",
    "e_use_kwh['threshold G-HP at B'] = e_use_kwh['pot. energy use at B'] / e_use_kwh['investment cost G-HP at B']"
   ]
  },
  {
   "cell_type": "code",
   "execution_count": 13,
   "metadata": {},
   "outputs": [
    {
     "data": {
      "text/html": [
       "<div>\n",
       "<style scoped>\n",
       "    .dataframe tbody tr th:only-of-type {\n",
       "        vertical-align: middle;\n",
       "    }\n",
       "\n",
       "    .dataframe tbody tr th {\n",
       "        vertical-align: top;\n",
       "    }\n",
       "\n",
       "    .dataframe thead th {\n",
       "        text-align: right;\n",
       "    }\n",
       "</style>\n",
       "<table border=\"1\" class=\"dataframe\">\n",
       "  <thead>\n",
       "    <tr style=\"text-align: right;\">\n",
       "      <th></th>\n",
       "      <th>gemeente</th>\n",
       "      <th>buurt_naam</th>\n",
       "      <th>oppervlakteverblijfsobject</th>\n",
       "      <th>GebruiksOppervlakteklasse</th>\n",
       "      <th>geschat gasverbruik jaarlijks</th>\n",
       "      <th>Energielabel</th>\n",
       "      <th>geschat gasverbruik jaarlijks (kWh)</th>\n",
       "      <th>pot. energy use at A</th>\n",
       "      <th>pot. energy use at B</th>\n",
       "      <th>Current Connection value (kW)</th>\n",
       "      <th>Connection value at A</th>\n",
       "      <th>Connection value at B</th>\n",
       "      <th>investment cost A-HP at A</th>\n",
       "      <th>investment cost G-HP at A</th>\n",
       "      <th>investment cost A-HP at B</th>\n",
       "      <th>investment cost G-HP at B</th>\n",
       "      <th>threshold A-HP at A</th>\n",
       "      <th>threshold G-HP at A</th>\n",
       "      <th>threshold A-HP at B</th>\n",
       "      <th>threshold G-HP at B</th>\n",
       "    </tr>\n",
       "  </thead>\n",
       "  <tbody>\n",
       "    <tr>\n",
       "      <th>0</th>\n",
       "      <td>Amsterdam</td>\n",
       "      <td>Oosterdokseiland</td>\n",
       "      <td>72.0</td>\n",
       "      <td>50 tot 75 m2</td>\n",
       "      <td>1166.4</td>\n",
       "      <td>G</td>\n",
       "      <td>10254.600000</td>\n",
       "      <td>5640.030000</td>\n",
       "      <td>6768.03600</td>\n",
       "      <td>6.214909</td>\n",
       "      <td>3.418200</td>\n",
       "      <td>4.101840</td>\n",
       "      <td>6452.824000</td>\n",
       "      <td>10418.628600</td>\n",
       "      <td>6671.588800</td>\n",
       "      <td>10810.354320</td>\n",
       "      <td>0.874041</td>\n",
       "      <td>0.541341</td>\n",
       "      <td>1.014456</td>\n",
       "      <td>0.626070</td>\n",
       "    </tr>\n",
       "    <tr>\n",
       "      <th>1</th>\n",
       "      <td>Amsterdam</td>\n",
       "      <td>Oosterdokseiland</td>\n",
       "      <td>84.0</td>\n",
       "      <td>75 tot 100 m2</td>\n",
       "      <td>1209.6</td>\n",
       "      <td>G</td>\n",
       "      <td>10634.400000</td>\n",
       "      <td>5848.920000</td>\n",
       "      <td>7018.70400</td>\n",
       "      <td>6.445091</td>\n",
       "      <td>3.544800</td>\n",
       "      <td>4.253760</td>\n",
       "      <td>6493.336000</td>\n",
       "      <td>10491.170400</td>\n",
       "      <td>6720.203200</td>\n",
       "      <td>10897.404480</td>\n",
       "      <td>0.900757</td>\n",
       "      <td>0.557509</td>\n",
       "      <td>1.044418</td>\n",
       "      <td>0.644071</td>\n",
       "    </tr>\n",
       "    <tr>\n",
       "      <th>2</th>\n",
       "      <td>Amsterdam</td>\n",
       "      <td>Oosterdokseiland</td>\n",
       "      <td>82.0</td>\n",
       "      <td>75 tot 100 m2</td>\n",
       "      <td>1180.8</td>\n",
       "      <td>G</td>\n",
       "      <td>10381.200000</td>\n",
       "      <td>5709.660000</td>\n",
       "      <td>6851.59200</td>\n",
       "      <td>6.291636</td>\n",
       "      <td>3.460400</td>\n",
       "      <td>4.152480</td>\n",
       "      <td>6466.328000</td>\n",
       "      <td>10442.809200</td>\n",
       "      <td>6687.793600</td>\n",
       "      <td>10839.371040</td>\n",
       "      <td>0.882983</td>\n",
       "      <td>0.546755</td>\n",
       "      <td>1.024492</td>\n",
       "      <td>0.632102</td>\n",
       "    </tr>\n",
       "    <tr>\n",
       "      <th>3</th>\n",
       "      <td>Amsterdam</td>\n",
       "      <td>Oosterdokseiland</td>\n",
       "      <td>60.0</td>\n",
       "      <td>50 tot 75 m2</td>\n",
       "      <td>972.0</td>\n",
       "      <td>G</td>\n",
       "      <td>8545.500000</td>\n",
       "      <td>4700.025000</td>\n",
       "      <td>5640.03000</td>\n",
       "      <td>5.179091</td>\n",
       "      <td>2.848500</td>\n",
       "      <td>3.418200</td>\n",
       "      <td>6270.520000</td>\n",
       "      <td>10092.190500</td>\n",
       "      <td>6452.824000</td>\n",
       "      <td>10418.628600</td>\n",
       "      <td>0.749543</td>\n",
       "      <td>0.465709</td>\n",
       "      <td>0.874041</td>\n",
       "      <td>0.541341</td>\n",
       "    </tr>\n",
       "    <tr>\n",
       "      <th>4</th>\n",
       "      <td>Amsterdam</td>\n",
       "      <td>Oosterdokseiland</td>\n",
       "      <td>308.0</td>\n",
       "      <td>250 tot 500 m2</td>\n",
       "      <td>3264.8</td>\n",
       "      <td>G</td>\n",
       "      <td>28703.033333</td>\n",
       "      <td>15786.668333</td>\n",
       "      <td>18944.00200</td>\n",
       "      <td>17.395778</td>\n",
       "      <td>9.567678</td>\n",
       "      <td>11.481213</td>\n",
       "      <td>8420.656889</td>\n",
       "      <td>13942.279367</td>\n",
       "      <td>9032.988267</td>\n",
       "      <td>15038.735240</td>\n",
       "      <td>1.874755</td>\n",
       "      <td>1.132287</td>\n",
       "      <td>2.097202</td>\n",
       "      <td>1.259681</td>\n",
       "    </tr>\n",
       "    <tr>\n",
       "      <th>...</th>\n",
       "      <td>...</td>\n",
       "      <td>...</td>\n",
       "      <td>...</td>\n",
       "      <td>...</td>\n",
       "      <td>...</td>\n",
       "      <td>...</td>\n",
       "      <td>...</td>\n",
       "      <td>...</td>\n",
       "      <td>...</td>\n",
       "      <td>...</td>\n",
       "      <td>...</td>\n",
       "      <td>...</td>\n",
       "      <td>...</td>\n",
       "      <td>...</td>\n",
       "      <td>...</td>\n",
       "      <td>...</td>\n",
       "      <td>...</td>\n",
       "      <td>...</td>\n",
       "      <td>...</td>\n",
       "      <td>...</td>\n",
       "    </tr>\n",
       "    <tr>\n",
       "      <th>7945891</th>\n",
       "      <td>Het Hogeland</td>\n",
       "      <td>Stitswerd</td>\n",
       "      <td>142.0</td>\n",
       "      <td>100 tot 150 m2</td>\n",
       "      <td>2357.2</td>\n",
       "      <td>G</td>\n",
       "      <td>20723.716667</td>\n",
       "      <td>11398.044167</td>\n",
       "      <td>13677.65300</td>\n",
       "      <td>12.559828</td>\n",
       "      <td>6.907906</td>\n",
       "      <td>8.289487</td>\n",
       "      <td>7569.529778</td>\n",
       "      <td>12418.229883</td>\n",
       "      <td>8011.635733</td>\n",
       "      <td>13209.875860</td>\n",
       "      <td>1.505780</td>\n",
       "      <td>0.917848</td>\n",
       "      <td>1.707224</td>\n",
       "      <td>1.035411</td>\n",
       "    </tr>\n",
       "    <tr>\n",
       "      <th>7945892</th>\n",
       "      <td>Het Hogeland</td>\n",
       "      <td>Stitswerd</td>\n",
       "      <td>239.0</td>\n",
       "      <td>150 tot 250 m2</td>\n",
       "      <td>3226.5</td>\n",
       "      <td>G</td>\n",
       "      <td>28366.312500</td>\n",
       "      <td>15601.471875</td>\n",
       "      <td>18721.76625</td>\n",
       "      <td>17.191705</td>\n",
       "      <td>9.455438</td>\n",
       "      <td>11.346525</td>\n",
       "      <td>8384.740000</td>\n",
       "      <td>13877.965688</td>\n",
       "      <td>8989.888000</td>\n",
       "      <td>14961.558825</td>\n",
       "      <td>1.860698</td>\n",
       "      <td>1.124190</td>\n",
       "      <td>2.082536</td>\n",
       "      <td>1.251325</td>\n",
       "    </tr>\n",
       "    <tr>\n",
       "      <th>7945893</th>\n",
       "      <td>Het Hogeland</td>\n",
       "      <td>Stitswerd</td>\n",
       "      <td>120.0</td>\n",
       "      <td>100 tot 150 m2</td>\n",
       "      <td>2028.0</td>\n",
       "      <td>F</td>\n",
       "      <td>17829.500000</td>\n",
       "      <td>11767.470000</td>\n",
       "      <td>12124.06000</td>\n",
       "      <td>10.805758</td>\n",
       "      <td>7.131800</td>\n",
       "      <td>7.347915</td>\n",
       "      <td>7641.176000</td>\n",
       "      <td>12546.521400</td>\n",
       "      <td>7710.332848</td>\n",
       "      <td>12670.355382</td>\n",
       "      <td>1.540008</td>\n",
       "      <td>0.937907</td>\n",
       "      <td>1.572443</td>\n",
       "      <td>0.956884</td>\n",
       "    </tr>\n",
       "    <tr>\n",
       "      <th>7945894</th>\n",
       "      <td>Het Hogeland</td>\n",
       "      <td>Stitswerd</td>\n",
       "      <td>191.0</td>\n",
       "      <td>150 tot 250 m2</td>\n",
       "      <td>2578.5</td>\n",
       "      <td>G</td>\n",
       "      <td>22669.312500</td>\n",
       "      <td>12468.121875</td>\n",
       "      <td>14961.74625</td>\n",
       "      <td>13.738977</td>\n",
       "      <td>7.556437</td>\n",
       "      <td>9.067725</td>\n",
       "      <td>7777.060000</td>\n",
       "      <td>12789.838687</td>\n",
       "      <td>8260.672000</td>\n",
       "      <td>13655.806425</td>\n",
       "      <td>1.603192</td>\n",
       "      <td>0.974846</td>\n",
       "      <td>1.811202</td>\n",
       "      <td>1.095633</td>\n",
       "    </tr>\n",
       "    <tr>\n",
       "      <th>7945895</th>\n",
       "      <td>Het Hogeland</td>\n",
       "      <td>Stitswerd</td>\n",
       "      <td>107.0</td>\n",
       "      <td>100 tot 150 m2</td>\n",
       "      <td>1776.2</td>\n",
       "      <td>G</td>\n",
       "      <td>15615.758333</td>\n",
       "      <td>8588.667083</td>\n",
       "      <td>10306.40050</td>\n",
       "      <td>9.464096</td>\n",
       "      <td>5.205253</td>\n",
       "      <td>6.246303</td>\n",
       "      <td>7024.680889</td>\n",
       "      <td>11442.609842</td>\n",
       "      <td>7357.817067</td>\n",
       "      <td>12039.131810</td>\n",
       "      <td>1.222642</td>\n",
       "      <td>0.750586</td>\n",
       "      <td>1.400742</td>\n",
       "      <td>0.856075</td>\n",
       "    </tr>\n",
       "  </tbody>\n",
       "</table>\n",
       "<p>7945896 rows × 20 columns</p>\n",
       "</div>"
      ],
      "text/plain": [
       "             gemeente        buurt_naam  oppervlakteverblijfsobject  \\\n",
       "0           Amsterdam  Oosterdokseiland                        72.0   \n",
       "1           Amsterdam  Oosterdokseiland                        84.0   \n",
       "2           Amsterdam  Oosterdokseiland                        82.0   \n",
       "3           Amsterdam  Oosterdokseiland                        60.0   \n",
       "4           Amsterdam  Oosterdokseiland                       308.0   \n",
       "...               ...               ...                         ...   \n",
       "7945891  Het Hogeland         Stitswerd                       142.0   \n",
       "7945892  Het Hogeland         Stitswerd                       239.0   \n",
       "7945893  Het Hogeland         Stitswerd                       120.0   \n",
       "7945894  Het Hogeland         Stitswerd                       191.0   \n",
       "7945895  Het Hogeland         Stitswerd                       107.0   \n",
       "\n",
       "        GebruiksOppervlakteklasse  geschat gasverbruik jaarlijks Energielabel  \\\n",
       "0                    50 tot 75 m2                         1166.4            G   \n",
       "1                   75 tot 100 m2                         1209.6            G   \n",
       "2                   75 tot 100 m2                         1180.8            G   \n",
       "3                    50 tot 75 m2                          972.0            G   \n",
       "4                  250 tot 500 m2                         3264.8            G   \n",
       "...                           ...                            ...          ...   \n",
       "7945891            100 tot 150 m2                         2357.2            G   \n",
       "7945892            150 tot 250 m2                         3226.5            G   \n",
       "7945893            100 tot 150 m2                         2028.0            F   \n",
       "7945894            150 tot 250 m2                         2578.5            G   \n",
       "7945895            100 tot 150 m2                         1776.2            G   \n",
       "\n",
       "         geschat gasverbruik jaarlijks (kWh)  pot. energy use at A  \\\n",
       "0                               10254.600000           5640.030000   \n",
       "1                               10634.400000           5848.920000   \n",
       "2                               10381.200000           5709.660000   \n",
       "3                                8545.500000           4700.025000   \n",
       "4                               28703.033333          15786.668333   \n",
       "...                                      ...                   ...   \n",
       "7945891                         20723.716667          11398.044167   \n",
       "7945892                         28366.312500          15601.471875   \n",
       "7945893                         17829.500000          11767.470000   \n",
       "7945894                         22669.312500          12468.121875   \n",
       "7945895                         15615.758333           8588.667083   \n",
       "\n",
       "         pot. energy use at B  Current Connection value (kW)  \\\n",
       "0                  6768.03600                       6.214909   \n",
       "1                  7018.70400                       6.445091   \n",
       "2                  6851.59200                       6.291636   \n",
       "3                  5640.03000                       5.179091   \n",
       "4                 18944.00200                      17.395778   \n",
       "...                       ...                            ...   \n",
       "7945891           13677.65300                      12.559828   \n",
       "7945892           18721.76625                      17.191705   \n",
       "7945893           12124.06000                      10.805758   \n",
       "7945894           14961.74625                      13.738977   \n",
       "7945895           10306.40050                       9.464096   \n",
       "\n",
       "         Connection value at A  Connection value at B  \\\n",
       "0                     3.418200               4.101840   \n",
       "1                     3.544800               4.253760   \n",
       "2                     3.460400               4.152480   \n",
       "3                     2.848500               3.418200   \n",
       "4                     9.567678              11.481213   \n",
       "...                        ...                    ...   \n",
       "7945891               6.907906               8.289487   \n",
       "7945892               9.455438              11.346525   \n",
       "7945893               7.131800               7.347915   \n",
       "7945894               7.556437               9.067725   \n",
       "7945895               5.205253               6.246303   \n",
       "\n",
       "         investment cost A-HP at A  investment cost G-HP at A  \\\n",
       "0                      6452.824000               10418.628600   \n",
       "1                      6493.336000               10491.170400   \n",
       "2                      6466.328000               10442.809200   \n",
       "3                      6270.520000               10092.190500   \n",
       "4                      8420.656889               13942.279367   \n",
       "...                            ...                        ...   \n",
       "7945891                7569.529778               12418.229883   \n",
       "7945892                8384.740000               13877.965688   \n",
       "7945893                7641.176000               12546.521400   \n",
       "7945894                7777.060000               12789.838687   \n",
       "7945895                7024.680889               11442.609842   \n",
       "\n",
       "         investment cost A-HP at B  investment cost G-HP at B  \\\n",
       "0                      6671.588800               10810.354320   \n",
       "1                      6720.203200               10897.404480   \n",
       "2                      6687.793600               10839.371040   \n",
       "3                      6452.824000               10418.628600   \n",
       "4                      9032.988267               15038.735240   \n",
       "...                            ...                        ...   \n",
       "7945891                8011.635733               13209.875860   \n",
       "7945892                8989.888000               14961.558825   \n",
       "7945893                7710.332848               12670.355382   \n",
       "7945894                8260.672000               13655.806425   \n",
       "7945895                7357.817067               12039.131810   \n",
       "\n",
       "         threshold A-HP at A  threshold G-HP at A  threshold A-HP at B  \\\n",
       "0                   0.874041             0.541341             1.014456   \n",
       "1                   0.900757             0.557509             1.044418   \n",
       "2                   0.882983             0.546755             1.024492   \n",
       "3                   0.749543             0.465709             0.874041   \n",
       "4                   1.874755             1.132287             2.097202   \n",
       "...                      ...                  ...                  ...   \n",
       "7945891             1.505780             0.917848             1.707224   \n",
       "7945892             1.860698             1.124190             2.082536   \n",
       "7945893             1.540008             0.937907             1.572443   \n",
       "7945894             1.603192             0.974846             1.811202   \n",
       "7945895             1.222642             0.750586             1.400742   \n",
       "\n",
       "         threshold G-HP at B  \n",
       "0                   0.626070  \n",
       "1                   0.644071  \n",
       "2                   0.632102  \n",
       "3                   0.541341  \n",
       "4                   1.259681  \n",
       "...                      ...  \n",
       "7945891             1.035411  \n",
       "7945892             1.251325  \n",
       "7945893             0.956884  \n",
       "7945894             1.095633  \n",
       "7945895             0.856075  \n",
       "\n",
       "[7945896 rows x 20 columns]"
      ]
     },
     "execution_count": 13,
     "metadata": {},
     "output_type": "execute_result"
    }
   ],
   "source": [
    "e_use_kwh"
   ]
  },
  {
   "cell_type": "code",
   "execution_count": 14,
   "metadata": {},
   "outputs": [],
   "source": [
    "gamma_HP = e_use_kwh[['gemeente', 'buurt_naam','threshold A-HP at A', 'threshold A-HP at B', 'threshold G-HP at A','threshold G-HP at B','investment cost A-HP at A', 'investment cost A-HP at B', 'investment cost G-HP at A','investment cost G-HP at B']].groupby(by = ['gemeente', 'buurt_naam']).agg(agg_list)"
   ]
  },
  {
   "cell_type": "code",
   "execution_count": 15,
   "metadata": {},
   "outputs": [],
   "source": [
    "gamma_HP.to_csv(filepath_processed + 'Gamma_HP.csv')"
   ]
  },
  {
   "cell_type": "code",
   "execution_count": 16,
   "metadata": {},
   "outputs": [
    {
     "data": {
      "text/plain": [
       "MultiIndex([(''s-Gravenhage',          'Archipelbuurt'),\n",
       "            (''s-Gravenhage',             'Arendsdorp'),\n",
       "            (''s-Gravenhage',          'Belgisch Park'),\n",
       "            (''s-Gravenhage',    'Bezuidenhout-Midden'),\n",
       "            (''s-Gravenhage',      'Bezuidenhout-Oost'),\n",
       "            (''s-Gravenhage',      'Bezuidenhout-West'),\n",
       "            (''s-Gravenhage',             'Binckhorst'),\n",
       "            (''s-Gravenhage',      'Bloemenbuurt-Oost'),\n",
       "            (''s-Gravenhage',      'Bloemenbuurt-West'),\n",
       "            (''s-Gravenhage', 'Bohemen en Meer en Bos'),\n",
       "            ...\n",
       "            (       'Zwolle',              'Veerallee'),\n",
       "            (       'Zwolle',               'Veldhoek'),\n",
       "            (       'Zwolle',            'Vreugderijk'),\n",
       "            (       'Zwolle',               'Werkeren'),\n",
       "            (       'Zwolle',      'Westenholte-Stins'),\n",
       "            (       'Zwolle',            'Wezenlanden'),\n",
       "            (       'Zwolle',               'Wijthmen'),\n",
       "            (       'Zwolle',             'Windesheim'),\n",
       "            (       'Zwolle',         'Wipstrik-Noord'),\n",
       "            (       'Zwolle',          'Wipstrik-Zuid')],\n",
       "           names=['gemeente', 'buurt_naam'], length=13211)"
      ]
     },
     "execution_count": 16,
     "metadata": {},
     "output_type": "execute_result"
    }
   ],
   "source": [
    "gamma_HP.index"
   ]
  },
  {
   "cell_type": "code",
   "execution_count": 17,
   "metadata": {
    "scrolled": true
   },
   "outputs": [
    {
     "name": "stderr",
     "output_type": "stream",
     "text": [
      "C:\\Users\\Dirk\\Anaconda3\\lib\\site-packages\\statsmodels\\tools\\_testing.py:19: FutureWarning: pandas.util.testing is deprecated. Use the functions in the public API at pandas.testing instead.\n",
      "  import pandas.util.testing as tm\n"
     ]
    }
   ],
   "source": [
    "import seaborn as sns\n",
    "import matplotlib.pyplot as plt"
   ]
  },
  {
   "cell_type": "code",
   "execution_count": 18,
   "metadata": {},
   "outputs": [
    {
     "data": {
      "text/plain": [
       "Index(['gemeente', 'buurt_naam', 'oppervlakteverblijfsobject',\n",
       "       'GebruiksOppervlakteklasse', 'geschat gasverbruik jaarlijks',\n",
       "       'Energielabel', 'geschat gasverbruik jaarlijks (kWh)',\n",
       "       'pot. energy use at A', 'pot. energy use at B',\n",
       "       'Current Connection value (kW)', 'Connection value at A',\n",
       "       'Connection value at B', 'investment cost A-HP at A',\n",
       "       'investment cost G-HP at A', 'investment cost A-HP at B',\n",
       "       'investment cost G-HP at B', 'threshold A-HP at A',\n",
       "       'threshold G-HP at A', 'threshold A-HP at B', 'threshold G-HP at B'],\n",
       "      dtype='object')"
      ]
     },
     "execution_count": 18,
     "metadata": {},
     "output_type": "execute_result"
    }
   ],
   "source": [
    "e_use_kwh.columns"
   ]
  },
  {
   "cell_type": "code",
   "execution_count": 19,
   "metadata": {},
   "outputs": [
    {
     "data": {
      "image/png": "[encoded data removed]",
      "text/plain": [
       "<Figure size 432x288 with 1 Axes>"
      ]
     },
     "metadata": {
      "needs_background": "light"
     },
     "output_type": "display_data"
    }
   ],
   "source": [
    "y = e_use_kwh.iloc[:,-4:].mean(axis = 1)[e_use_kwh['oppervlakteverblijfsobject'] < 5000]\n",
    "x = e_use_kwh['oppervlakteverblijfsobject'][e_use_kwh['oppervlakteverblijfsobject'] < 5000]\n",
    "fig = sns.scatterplot(x=x, y=y,marker=\"+\")#, order = 2)\n",
    "fig.set_ylabel('Heat pump potential (kWh / Year / €)')\n",
    "fig.set_xlabel('House size (m$^2$)')\n",
    "\n",
    "plt.show()"
   ]
  },
  {
   "cell_type": "code",
   "execution_count": 20,
   "metadata": {},
   "outputs": [],
   "source": [
    "# x = e_use_kwh.iloc[:,-4:].mean(axis = 1)[e_use_kwh['oppervlakteverblijfsobject'] < 5000]\n",
    "# y = e_use_kwh['oppervlakteverblijfsobject'][e_use_kwh['oppervlakteverblijfsobject'] < 5000]\n",
    "# fig = sns.scatterplot(x=x, y=y,marker=\"+\", hue = e_use_kwh['Energielabel'] )#, order = 2)\n",
    "# fig.set_xlabel('Mean heat pump potential (GJ / Year / €)')\n",
    "# fig.set_ylabel('House size (m$^2$)')\n",
    "\n",
    "# plt.show()"
   ]
  },
  {
   "cell_type": "code",
   "execution_count": 21,
   "metadata": {},
   "outputs": [],
   "source": [
    "# x = e_use_kwh.iloc[:,-4:].mean(axis = 1)[e_use_kwh['oppervlakteverblijfsobject'] < 500]\n",
    "# y = e_use_kwh['oppervlakteverblijfsobject'][e_use_kwh['oppervlakteverblijfsobject'] < 500]\n",
    "# fig = sns.scatterplot(x=x, y=y,marker=\"+\", hue = e_use_kwh['Energielabel'] )#, order = 2)\n",
    "# fig.set_xlabel('Mean heat pump potential (GJ / Year / €)')\n",
    "# fig.set_ylabel('House size (m2)')\n",
    "\n",
    "# plt.show()"
   ]
  },
  {
   "cell_type": "code",
   "execution_count": 22,
   "metadata": {},
   "outputs": [
    {
     "data": {
      "image/png": "[encoded data removed]",
      "text/plain": [
       "<Figure size 432x288 with 1 Axes>"
      ]
     },
     "metadata": {
      "needs_background": "light"
     },
     "output_type": "display_data"
    }
   ],
   "source": [
    "y = e_use_kwh.iloc[:,-4:].mean(axis = 1)\n",
    "z = e_use_kwh.rename(columns = {'Energielabel': 'Energylabel'})['Energylabel']\n",
    "x = e_use_kwh['GebruiksOppervlakteklasse']\n",
    "order = ['A', 'B', 'C', 'D', 'E', 'F', 'G']\n",
    "hue_order = ['15 tot 50 m2', '50 tot 75 m2', '75 tot 100 m2', '100 tot 150 m2', '150 tot 250 m2', '250 tot 500 m2']\n",
    "palette = ['darkgreen','forestgreen','mediumseagreen','yellow','orange', 'orangered', 'darkred']\n",
    "fig = sns.barplot(x=x, y=y, hue = z, ci = 'sd', order = hue_order, hue_order = order, palette = palette)#,marker=\"+\" )#, order = 2)\n",
    "fig.set_xlabel('House size class (m$^2$)')\n",
    "fig.set_ylabel('Mean heat pump potential (kWh / Year / €)')\n",
    "fig.set_xticklabels(['15-50','50-75','75-100','100-150','150-250','250+'], rotation=0)\n",
    "#fig.get_xticklabels()\n",
    "plt.show()"
   ]
  },
  {
   "cell_type": "code",
   "execution_count": 23,
   "metadata": {},
   "outputs": [
    {
     "data": {
      "image/png": "[encoded data removed]",
      "text/plain": [
       "<Figure size 432x288 with 1 Axes>"
      ]
     },
     "metadata": {
      "needs_background": "light"
     },
     "output_type": "display_data"
    }
   ],
   "source": [
    "y = e_use_kwh.iloc[:,-4:].mean(axis = 1)\n",
    "x = e_use_kwh['Energielabel']\n",
    "x = e_use_kwh['GebruiksOppervlakteklasse']\n",
    "order = ['A', 'B', 'C', 'D', 'E', 'F', 'G']\n",
    "hue_order = ['15 tot 50 m2', '50 tot 75 m2', '75 tot 100 m2', '100 tot 150 m2', '150 tot 250 m2', '250 tot 500 m2']\n",
    "fig = sns.barplot(x=x, y=y, ci = 'sd', order = hue_order)#, hue_order = hue_order)#,marker=\"+\" )#, order = 2)\n",
    "fig.set_xlabel('House label and size')\n",
    "fig.set_ylabel('Mean heat pump potential (kWh / Year / €)')\n",
    "\n",
    "plt.show()\n"
   ]
  },
  {
   "cell_type": "code",
   "execution_count": null,
   "metadata": {},
   "outputs": [],
   "source": []
  }
 ],
 "metadata": {
  "kernelspec": {
   "display_name": "Python 3",
   "language": "python",
   "name": "python3"
  },
  "language_info": {
   "codemirror_mode": {
    "name": "ipython",
    "version": 3
   },
   "file_extension": ".py",
   "mimetype": "text/x-python",
   "name": "python",
   "nbconvert_exporter": "python",
   "pygments_lexer": "ipython3",
   "version": "3.6.10"
  }
 },
 "nbformat": 4,
 "nbformat_minor": 4
}
