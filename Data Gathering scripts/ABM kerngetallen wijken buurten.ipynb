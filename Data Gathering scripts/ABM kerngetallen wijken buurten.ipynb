{
 "cells": [
  {
   "cell_type": "code",
   "execution_count": 1,
   "metadata": {},
   "outputs": [],
   "source": [
    "import pandas as pd\n",
    "import numpy as np\n",
    "from datetime import datetime\n",
    "\n",
    "filepath_processed = 'C:/Users/Dirk/Google Drive/Dirk/TU/Afstuderen/Afstuderen/Thesis/3. Formalisation/Processed CBS data/'\n",
    "filepath_raw = 'C:/Users/Dirk/Google Drive/Dirk/TU/Afstuderen/Afstuderen/Thesis/3. Formalisation/Raw CBS data/'\n",
    "filepath_other = 'C:/Users/Dirk/Google Drive/Dirk/TU/Afstuderen/Afstuderen/Thesis/3. Formalisation/Raw data other/'"
   ]
  },
  {
   "cell_type": "code",
   "execution_count": 2,
   "metadata": {},
   "outputs": [],
   "source": [
    "buurten = pd.read_csv(filepath_raw + 'postcode_huisnummer_buurten.csv',delimiter = ';')\n",
    "wijk = pd.read_csv(filepath_raw + 'wijk2019.csv', delimiter = ';')\n",
    "buurt = pd.read_csv(filepath_raw + 'buurt2019.csv', delimiter = ';')\n",
    "wijk_dict = wijk.astype(str).set_index('Wijkcode2019').to_dict()['Wijknaam_2019K_NAAM']\n",
    "buurt.Buurtcode_2019 = buurt.Buurtcode_2019.astype(str)\n",
    "buurt_dict = buurt.set_index('Buurtcode_2019').to_dict()['Buurtnaam_2019']\n",
    "\n",
    "buurten[['Buurt2019']]= buurten[['Buurt2019']].astype(str)\n",
    "buurten[['Wijk2019']] = buurten[['Wijk2019']].astype(str)\n",
    "buurten['buurt_naam'] = buurten['Buurt2019'].map(buurt_dict)\n",
    "buurten['wijk_naam'] = buurten['Wijk2019'].map(wijk_dict)\n",
    "buurten = buurten.drop(['Buurt2019','Wijk2019','Gemeente2019'], axis = 1).rename(columns = {'PC6':'postcode','Huisnummer':'huisnummer'})"
   ]
  },
  {
   "cell_type": "code",
   "execution_count": 3,
   "metadata": {},
   "outputs": [],
   "source": [
    "kwb_2019 = pd.read_excel(filepath_raw + 'kwb-2019.xls')\n",
    "kwb_2018 = pd.read_excel(filepath_raw + 'kwb-2018.xls')\n",
    "kwb_2017 = pd.read_excel(filepath_raw + 'kwb-2017.xls')"
   ]
  },
  {
   "cell_type": "code",
   "execution_count": 4,
   "metadata": {},
   "outputs": [],
   "source": [
    "WKO = pd.read_excel(filepath_other + 'Warmteatlas WKO potentie.xlsx', \n",
    "                    usecols = ['buurtcode', \"Centroid in WKO-contour?\", \"Potentie WKO per buurt (GJ)\",\n",
    "                            \"Potentie bodemlussen per buurt (GJ)\" ])\n"
   ]
  },
  {
   "cell_type": "code",
   "execution_count": 5,
   "metadata": {},
   "outputs": [],
   "source": [
    "total = pd.read_csv(filepath_processed + 'total_characteristics.csv',index_col = [0,1])\n",
    "total = total['total']"
   ]
  },
  {
   "cell_type": "code",
   "execution_count": 6,
   "metadata": {},
   "outputs": [],
   "source": [
    "kwb_2019_selected = kwb_2019[['gm_naam','regio','gwb_code_10', 'recs','g_woz', 'p_koopw', 'p_wcorpw', 'p_ov_hw','a_opp_ha','a_lan_ha', 'a_wat_ha' ]].where(kwb_2019['recs']=='Buurt').drop('recs', axis = 1).dropna(how = 'all').rename(columns = {'regio' : 'buurt_naam','gm_naam': 'gemeente'})\n",
    "kwb_2018_selected = kwb_2018[['gm_naam','regio','recs', 'g_ink_pi', 'p_hh_li','p_hh_hi' ]].where(kwb_2018['recs']=='Buurt').drop('recs', axis = 1).dropna(how = 'all').rename(columns = {'regio' : 'buurt_naam','gm_naam': 'gemeente'})\n",
    "kwb_2017_selected = kwb_2017[['gm_naam','regio','recs','p_stadsv','g_ink_pi' ]].where(kwb_2017['recs']=='Buurt').drop('recs', axis = 1).dropna(how = 'all').rename(columns = {'regio' : 'buurt_naam','gm_naam': 'gemeente'})"
   ]
  },
  {
   "cell_type": "code",
   "execution_count": 7,
   "metadata": {},
   "outputs": [],
   "source": [
    "#Needed to prevent errors in Vensim and Netlogo, which don't deal well with non-latins\n",
    "kwb_2017_selected.gemeente = kwb_2017_selected.gemeente.replace({\"Nuenen, Gerwen en Nederwetten\": \"Nuenen Gerwen en Nederwetten\", \"Noardeast-Fryslân\": \"Noardeast-Fryslan\" , \"Súdwest-Fryslân\":\"Sudwest-Fryslan\" })\n",
    "kwb_2018_selected.gemeente = kwb_2018_selected.gemeente.replace({\"Nuenen, Gerwen en Nederwetten\": \"Nuenen Gerwen en Nederwetten\", \"Noardeast-Fryslân\": \"Noardeast-Fryslan\" , \"Súdwest-Fryslân\":\"Sudwest-Fryslan\" })\n",
    "kwb_2019_selected.gemeente = kwb_2019_selected.gemeente.replace({\"Nuenen, Gerwen en Nederwetten\": \"Nuenen Gerwen en Nederwetten\", \"Noardeast-Fryslân\": \"Noardeast-Fryslan\" , \"Súdwest-Fryslân\":\"Sudwest-Fryslan\" })\n"
   ]
  },
  {
   "cell_type": "code",
   "execution_count": 8,
   "metadata": {},
   "outputs": [],
   "source": [
    "df = total.to_frame().merge(kwb_2019_selected, on = ['gemeente','buurt_naam'], how = 'inner').set_index(['gemeente', 'buurt_naam'])\n",
    "df = df.merge(kwb_2018_selected, on = ['gemeente','buurt_naam'], how = 'left').merge(kwb_2017_selected, on = ['gemeente','buurt_naam'], how = 'left')\n",
    "df = df.merge(WKO, left_on = \"gwb_code_10\", right_on = 'buurtcode', how = 'left' ).set_index(['gemeente', 'buurt_naam'])\n",
    "df = df.drop('buurtcode', axis = 1)"
   ]
  },
  {
   "cell_type": "code",
   "execution_count": 9,
   "metadata": {},
   "outputs": [],
   "source": [
    "df['P-WKO'] = df['Potentie WKO per buurt (GJ)'] * 277.78 / 1650 # IN MW\n",
    "df['P-GHP'] = df['Potentie bodemlussen per buurt (GJ)'] * 277.78 / 1650 \n",
    "df['P-TESW'] = df['a_wat_ha'] / df['a_opp_ha'] * df['P-WKO']  "
   ]
  },
  {
   "cell_type": "code",
   "execution_count": 10,
   "metadata": {},
   "outputs": [],
   "source": [
    "buurten_gamma = pd.read_csv(filepath_processed + 'total_gamma.csv', skiprows = 2)\n",
    "df = df.reset_index().drop_duplicates().merge(buurten_gamma[['gemeente','buurt_naam']].drop_duplicates(),how = 'inner').drop_duplicates(subset = ['gemeente','buurt_naam']).merge(buurten_gamma[['gemeente','buurt_naam']],how = 'outer')"
   ]
  },
  {
   "cell_type": "code",
   "execution_count": 11,
   "metadata": {},
   "outputs": [],
   "source": [
    "# Take 2018 income, append with 2017 income\n",
    "for i in [ 'g_ink_pi_x' , 'g_ink_pi_y']: #just average income\n",
    "    df[i] = pd.to_numeric(df[i].astype(str).str.replace(',','.'), errors = 'coerce')\n",
    "    df['g_ink_pi'] = pd.merge(df.g_ink_pi_x , df.g_ink_pi_y.where(df.g_ink_pi_x.isnull()), left_index = True, right_index= True).sum(axis = 1).replace({0:np.nan})\n",
    "df = df.drop(['g_ink_pi_y','g_ink_pi_x'], axis = 1)"
   ]
  },
  {
   "cell_type": "code",
   "execution_count": 12,
   "metadata": {},
   "outputs": [],
   "source": [
    "\n",
    "\n",
    "for i in df.columns.drop(['p_stadsv','gwb_code_10','total'])[2:]: #exclude cityheating\n",
    "    df[i] = pd.to_numeric(df[i].astype(str).str.replace(',','.'), errors = 'coerce')\n",
    "\n",
    "#Separate operation for cityheating: missing data -> no cityheating\n",
    "df['p_stadsv'] = pd.to_numeric(df['p_stadsv'].astype(str).str.replace(',','.'), errors = 'coerce').fillna(0)\n",
    "\n",
    "#fill with mean from municiaplities\n",
    "df = df.set_index(['gemeente','buurt_naam']).fillna(df.set_index('gemeente').mean(level = 'gemeente'))\n",
    "\n",
    "for i in df.columns.drop(['p_stadsv','gwb_code_10','total']): # fill remaining NaNs with nationwide means\n",
    "       df[i] = df[i].fillna(df[i].mean())"
   ]
  },
  {
   "cell_type": "code",
   "execution_count": 13,
   "metadata": {},
   "outputs": [],
   "source": [
    "df = df.rename(columns = {'gwb_code_10': 'BU_CODE'}).reset_index()"
   ]
  },
  {
   "cell_type": "code",
   "execution_count": 14,
   "metadata": {},
   "outputs": [],
   "source": [
    "# pipe length estimates from PBL's VESTA\n",
    "pipe_length = pd.read_csv(filepath_other + 'buislengte_VESTA.csv',delimiter = ';')"
   ]
  },
  {
   "cell_type": "code",
   "execution_count": 15,
   "metadata": {},
   "outputs": [],
   "source": [
    "df = df.merge(pipe_length, on = 'BU_CODE', how = 'left').drop(['BU_CODE','Panden'],axis = 1)#.set_index(['gemeente','buurt_naam'])\n"
   ]
  },
  {
   "cell_type": "code",
   "execution_count": 16,
   "metadata": {},
   "outputs": [],
   "source": [
    "xycor = pd.read_csv(filepath_processed + 'relative_xycor_buurten.csv')"
   ]
  },
  {
   "cell_type": "code",
   "execution_count": 17,
   "metadata": {},
   "outputs": [],
   "source": [
    "df = df.merge(xycor, on = ['gemeente','buurt_naam']).set_index(['gemeente','buurt_naam'])"
   ]
  },
  {
   "cell_type": "code",
   "execution_count": 18,
   "metadata": {},
   "outputs": [],
   "source": [
    "df['total'] = df.total.fillna(0)\n",
    "df = df.sort_index()"
   ]
  },
  {
   "cell_type": "code",
   "execution_count": null,
   "metadata": {},
   "outputs": [],
   "source": []
  },
  {
   "cell_type": "code",
   "execution_count": null,
   "metadata": {},
   "outputs": [],
   "source": []
  },
  {
   "cell_type": "code",
   "execution_count": 19,
   "metadata": {},
   "outputs": [],
   "source": [
    "df.to_csv(filepath_processed + 'total_kwb.csv')"
   ]
  },
  {
   "cell_type": "code",
   "execution_count": 20,
   "metadata": {},
   "outputs": [],
   "source": [
    "df.Aansluit_lengte_m.replace({0:np.nan}, inplace = True)"
   ]
  },
  {
   "cell_type": "code",
   "execution_count": 21,
   "metadata": {},
   "outputs": [],
   "source": [
    "#df.where(df.Hoofdleiding_lengte_m.isnull()).dropna(how = 'all').merge(pipe_length, on = 'BU_CODE', how = 'left')"
   ]
  },
  {
   "cell_type": "code",
   "execution_count": 22,
   "metadata": {},
   "outputs": [
    {
     "data": {
      "text/plain": [
       "3.396457769727818e-05"
      ]
     },
     "execution_count": 22,
     "metadata": {},
     "output_type": "execute_result"
    }
   ],
   "source": [
    "((df.a_lan_ha / df.total) / (df.Aansluit_lengte_m)).median()"
   ]
  },
  {
   "cell_type": "code",
   "execution_count": 23,
   "metadata": {},
   "outputs": [],
   "source": [
    "import matplotlib.pyplot as plt\n"
   ]
  },
  {
   "cell_type": "code",
   "execution_count": 24,
   "metadata": {
    "scrolled": false
   },
   "outputs": [
    {
     "data": {
      "image/png": "[encoded data removed]",
      "text/plain": [
       "<Figure size 432x288 with 1 Axes>"
      ]
     },
     "metadata": {
      "needs_background": "light"
     },
     "output_type": "display_data"
    },
    {
     "name": "stdout",
     "output_type": "stream",
     "text": [
      "3995.5140978743157 0.029361081403745222 -3.581295317859401e-09\n"
     ]
    }
   ],
   "source": [
    "x = (df.total * df.a_opp_ha).where(df.Aansluit_lengte_m.notnull()).dropna(how = 'all').values\n",
    "y = df.Aansluit_lengte_m.dropna().values\n",
    "a, b, c  = np.polyfit(x, y, 2)\n",
    "\n",
    "plt.plot((x), (y), 'r.')\n",
    "x.sort()\n",
    "plt.plot(x,(a * x**2 + b*x + c ))\n",
    "\n",
    "plt.show()\n",
    "print(c, b, a)\n",
    "aansluit_lengte_vars = a, b , c"
   ]
  },
  {
   "cell_type": "code",
   "execution_count": 25,
   "metadata": {},
   "outputs": [
    {
     "data": {
      "image/png": "[encoded data removed]",
      "text/plain": [
       "<Figure size 432x288 with 1 Axes>"
      ]
     },
     "metadata": {
      "needs_background": "light"
     },
     "output_type": "display_data"
    },
    {
     "name": "stdout",
     "output_type": "stream",
     "text": [
      "-3.846198114207384e-09 0.03079965122722052 4452.267853042382\n"
     ]
    }
   ],
   "source": [
    "x = (df.total*df.a_opp_ha).where(df.Hoofdleiding_lengte_m.notnull()).dropna(how = 'all').values\n",
    "y = df.Hoofdleiding_lengte_m.dropna().values\n",
    "a, b, c  = np.polyfit(x, y, 2)\n",
    "\n",
    "plt.plot((x), (y), 'r.')\n",
    "x.sort()\n",
    "plt.plot(x,(a * x**2 + b*x + c ))\n",
    "\n",
    "\n",
    "plt.show()\n",
    "print(a,b,c)\n",
    "hoofdleiding_vars = a,b,c "
   ]
  },
  {
   "cell_type": "code",
   "execution_count": 26,
   "metadata": {},
   "outputs": [
    {
     "data": {
      "image/png": "[encoded data removed]",
      "text/plain": [
       "<Figure size 432x288 with 1 Axes>"
      ]
     },
     "metadata": {
      "needs_background": "light"
     },
     "output_type": "display_data"
    },
    {
     "name": "stdout",
     "output_type": "stream",
     "text": [
      "0.9248278209175209 -44.82734415090401\n"
     ]
    }
   ],
   "source": [
    "x = (df.Hoofdleiding_lengte_m).where(df.Aansluit_lengte_m.notnull()).dropna(how = 'all').values\n",
    "y = df.Aansluit_lengte_m.dropna().values\n",
    "a, b  = np.polyfit(x, y, 1)\n",
    "\n",
    "plt.plot((x), (y), 'r.')\n",
    "x.sort()\n",
    "#plt.plot(x,(a * x**2 + b*x + c ))\n",
    "plt.plot(x,(a*x + b ))\n",
    "\n",
    "plt.show()\n",
    "print(a,b)"
   ]
  },
  {
   "cell_type": "code",
   "execution_count": 27,
   "metadata": {},
   "outputs": [
    {
     "data": {
      "image/png": "[encoded data removed]",
      "text/plain": [
       "<Figure size 432x288 with 1 Axes>"
      ]
     },
     "metadata": {
      "needs_background": "light"
     },
     "output_type": "display_data"
    },
    {
     "name": "stdout",
     "output_type": "stream",
     "text": [
      "0.5644903060326091 155.86252997809083\n"
     ]
    }
   ],
   "source": [
    "x = (df.total).where(df.Aansluitingen.notnull()).dropna(how = 'all').values\n",
    "y = df.Aansluitingen.dropna().values\n",
    "a, b  = np.polyfit(x, y, 1)\n",
    "\n",
    "plt.plot((x), (y), 'r.')\n",
    "x.sort()\n",
    "#plt.plot(x,(a * x**2 + b*x + c ))\n",
    "plt.plot(x,(a*x + b ))\n",
    "\n",
    "plt.show()\n",
    "print(a,b)\n",
    "aansluitingen_vars = a,b "
   ]
  },
  {
   "cell_type": "code",
   "execution_count": 28,
   "metadata": {},
   "outputs": [],
   "source": [
    "def aansluit_func(x):\n",
    "    a, b, c = aansluit_lengte_vars\n",
    "    return a * x**2 + b*x + c \n",
    "def hoofdl_func(x):\n",
    "    a, b, c = hoofdleiding_vars\n",
    "    return a * x**2 + b*x + c \n",
    "def aansl_func(x):\n",
    "    a, b = aansluitingen_vars\n",
    "    return a * x + b "
   ]
  },
  {
   "cell_type": "code",
   "execution_count": 29,
   "metadata": {},
   "outputs": [],
   "source": [
    "df ['aansluit_est'] = ((df.a_opp_ha * df.total)).map(aansluit_func)\n",
    "df ['hoofdl_est'] = ((df.a_opp_ha * df.total)).map(hoofdl_func)\n",
    "df ['aansluitingen_est'] = df.total.map(aansl_func)"
   ]
  },
  {
   "cell_type": "code",
   "execution_count": 30,
   "metadata": {},
   "outputs": [],
   "source": [
    "df.Aansluitingen.fillna(df.aansluitingen_est.where(df.Aansluitingen.isnull()).dropna(),inplace = True)\n",
    "df.Hoofdleiding_lengte_m.fillna(df.hoofdl_est.where(df.Hoofdleiding_lengte_m.isnull()).dropna(),inplace = True)\n",
    "df.Aansluit_lengte_m.fillna(df.aansluit_est.where(df.Aansluit_lengte_m.isnull()).dropna(),inplace = True)"
   ]
  },
  {
   "cell_type": "code",
   "execution_count": 31,
   "metadata": {},
   "outputs": [],
   "source": [
    "#get rid of estimation columns \n",
    "df = df[df.columns[:-3]]"
   ]
  },
  {
   "cell_type": "code",
   "execution_count": 32,
   "metadata": {},
   "outputs": [],
   "source": [
    "df.to_csv(filepath_processed + 'total_kwb.csv')"
   ]
  },
  {
   "cell_type": "code",
   "execution_count": null,
   "metadata": {},
   "outputs": [],
   "source": []
  }
 ],
 "metadata": {
  "kernelspec": {
   "display_name": "Python 3",
   "language": "python",
   "name": "python3"
  },
  "language_info": {
   "codemirror_mode": {
    "name": "ipython",
    "version": 3
   },
   "file_extension": ".py",
   "mimetype": "text/x-python",
   "name": "python",
   "nbconvert_exporter": "python",
   "pygments_lexer": "ipython3",
   "version": "3.6.10"
  }
 },
 "nbformat": 4,
 "nbformat_minor": 4
}
