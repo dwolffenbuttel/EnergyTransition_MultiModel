{
 "cells": [
  {
   "cell_type": "code",
   "execution_count": 2,
   "metadata": {},
   "outputs": [],
   "source": [
    "import numpy as np\n",
    "import pandas as pd\n",
    "import pickle"
   ]
  },
  {
   "cell_type": "markdown",
   "metadata": {},
   "source": [
    "# Warning: depending on file size, running this script requires a lot of RAM. This script was used to merge 34GB's of data, requiring about 60GBs of RAM i"
   ]
  },
  {
   "cell_type": "code",
   "execution_count": 3,
   "metadata": {},
   "outputs": [],
   "source": [
    "def open_file(i):\n",
    "    a_file = open(\"C:/Users/test/Documents/Results/Neighbourhood_results_#\"+ str(i) +\".pkl\", \"rb\")\n",
    "    results = pickle.load(a_file)\n",
    "    a_file.close()\n",
    "    return results"
   ]
  },
  {
   "cell_type": "code",
   "execution_count": 4,
   "metadata": {},
   "outputs": [],
   "source": [
    "def open_file_combined(i):\n",
    "    a_file = open(\"C:/Users/test/Documents/Results/combined_results_#\"+ str(i) +\".pkl\", \"rb\")\n",
    "    results = pickle.load(a_file)\n",
    "    a_file.close()\n",
    "    return results"
   ]
  },
  {
   "cell_type": "code",
   "execution_count": 5,
   "metadata": {},
   "outputs": [],
   "source": [
    "def save_outcome(outcome, i):\n",
    "    a_file = open(\"C:/Users/test/Documents/Results/combined_results_#\"+ str(i) +\".pkl\", \"wb\")\n",
    "    pickle.dump(outcome, a_file)\n",
    "    a_file.close()\n",
    "    print('File number '+ f'{i}\\r' + ' saved', end=\"\")"
   ]
  },
  {
   "cell_type": "code",
   "execution_count": 6,
   "metadata": {},
   "outputs": [],
   "source": [
    "def add_column_names(data):\n",
    "    for i in data.columns:\n",
    "        #data[i] = data[i].astype('|S500')\n",
    "        data[i] = data[i].astype(float, errors = 'ignore')\n",
    "    return data.rename(columns = {0:'LT-suitability', 1:'MT-suitability',2:'HT-suitability',3:'Best Primary Source', 4:'Cityheating', 5:'Net-temp',6:'Heat pumps',7:'Gas connections',8:'Average spending',9: 'Year', 10:'Municipality', 11: 'Neighbourhood', 12:'HG contract', 13: 'HP contract', 14: 'Insulation contract', 15:'Dominant system' }).sort_values(['Municipality', 'Neighbourhood','Year']).reset_index(drop = True)"
   ]
  },
  {
   "cell_type": "code",
   "execution_count": 7,
   "metadata": {},
   "outputs": [],
   "source": [
    "def combine_replications(results):\n",
    "    first = True    \n",
    "    for i in range(98): \n",
    "        total = add_column_names(pd.DataFrame(results[1][i][0]))\n",
    "        indexers = total.iloc[:,[10,11]]\n",
    "        for j in range(1,4):\n",
    "            total = total.append(add_column_names(pd.DataFrame(results[1][i][j]))) \n",
    "        means = total.groupby(by = total.index).mean()\n",
    "        categoricals = total[total.columns[total.dtypes == object]][['Best Primary Source','Net-temp','HG contract', 'HP contract', 'Insulation contract', 'Dominant system']].groupby(by = total.index).agg(lambda x: pd.Series.mode(x)[0])#.agg(lambda x:x.value_counts())\n",
    "        outcome = indexers.merge(means, left_index = True, right_index = True).merge(categoricals, left_index = True, right_index = True).to_numpy()\n",
    "        outcome = np.expand_dims(outcome, 0)\n",
    "        if first == True:\n",
    "            outcome_set = outcome\n",
    "            first = False\n",
    "        else:\n",
    "            outcome_set = np.append(outcome_set, outcome, axis = 0)\n",
    "        print('Current rep: '+ f'{i}\\r', end=\"\")\n",
    "    return outcome_set"
   ]
  },
  {
   "cell_type": "code",
   "execution_count": null,
   "metadata": {},
   "outputs": [],
   "source": []
  },
  {
   "cell_type": "code",
   "execution_count": 8,
   "metadata": {},
   "outputs": [],
   "source": [
    "# number of files\n",
    "def process_data(i):\n",
    "    results = open_file(i)\n",
    "    outcome = combine_replications(results)\n",
    "    save_outcome(outcome, i)"
   ]
  },
  {
   "cell_type": "code",
   "execution_count": null,
   "metadata": {},
   "outputs": [],
   "source": [
    "# pool = multiprocessing.Pool(12)\n",
    "# pool.map(process_data, range(0, 15))"
   ]
  },
  {
   "cell_type": "code",
   "execution_count": null,
   "metadata": {},
   "outputs": [],
   "source": [
    "from multiprocessing import Pool\n",
    "\n",
    "if __name__ == '__main__':\n",
    "    with Pool(5) as p:\n",
    "        p.map(process_data, list(range(0,15)))"
   ]
  },
  {
   "cell_type": "code",
   "execution_count": 9,
   "metadata": {
    "scrolled": true
   },
   "outputs": [],
   "source": [
    "def combine_data():\n",
    "    total = open_file_combined(0)\n",
    "    for i in range(1,15):\n",
    "        total = np.append(total, open_file_combined(i), axis = 0)\n",
    "        print('current rep: ' + str(i))\n",
    "    return total"
   ]
  },
  {
   "cell_type": "code",
   "execution_count": 10,
   "metadata": {},
   "outputs": [
    {
     "name": "stdout",
     "output_type": "stream",
     "text": [
      "current rep: 1\n",
      "current rep: 2\n",
      "current rep: 3\n",
      "current rep: 4\n",
      "current rep: 5\n",
      "current rep: 6\n",
      "current rep: 7\n",
      "current rep: 8\n",
      "current rep: 9\n",
      "current rep: 10\n",
      "current rep: 11\n",
      "current rep: 12\n",
      "current rep: 13\n",
      "current rep: 14\n"
     ]
    }
   ],
   "source": [
    "results = combine_data()"
   ]
  },
  {
   "cell_type": "code",
   "execution_count": 11,
   "metadata": {},
   "outputs": [],
   "source": [
    "scenarios = pd.read_csv('Scenarios.csv')"
   ]
  },
  {
   "cell_type": "code",
   "execution_count": 12,
   "metadata": {},
   "outputs": [],
   "source": [
    "HG_high_results = results[scenarios['Scenario HG high']]\n",
    "HP_high_results = results[scenarios['Scenario HP high']]\n",
    "CO2_high_results = results[scenarios['Scenario CO2 high']]\n",
    "CO2_low_results = results[scenarios['Scenario CO2 low']]\n"
   ]
  },
  {
   "cell_type": "code",
   "execution_count": 13,
   "metadata": {},
   "outputs": [],
   "source": [
    "def make_float(data):\n",
    "    for i in data.columns:\n",
    "        data[i] = data[i].astype(float, errors = 'ignore')\n",
    "    return data\n",
    "\n",
    "\n",
    "def combine_scenarios(results):\n",
    "        first = True    \n",
    "\n",
    "        \n",
    "        total = make_float(pd.DataFrame(results[0])).sort_values([0,1,9]).reset_index(drop = True)\n",
    "        indexers = total.iloc[:,[0,1]]\n",
    "        #for i in range(10):\n",
    "        for i in range(results.shape[0]):\n",
    "            total = total.append(make_float(pd.DataFrame(results[i])).sort_values([0,1,9]).reset_index(drop = True))\n",
    "            print('Current rep: '+ f'{i}\\r', end=\"\")\n",
    "        print('Grouping now')\n",
    "        means = total.groupby(by = total.index).mean()\n",
    "        categoricals = total[total.columns[total.dtypes == object]][[10,11,12,13,14,15]].groupby(by = total.index).agg(lambda x: pd.Series.mode(x)[0])#.agg(lambda x:x.value_counts())\n",
    "        outcome = indexers.merge(means, left_index = True, right_index = True).merge(categoricals, left_index = True, right_index = True).to_numpy()\n",
    "        \n",
    "        \n",
    "#         outcome = np.expand_dims(outcome, 0)\n",
    "#         if first == True:\n",
    "#             outcome_set = outcome\n",
    "#             first = False\n",
    "#         else:\n",
    "#             outcome_set = np.append(outcome_set, outcome, axis = 0)\n",
    "        \n",
    "        return outcome"
   ]
  },
  {
   "cell_type": "code",
   "execution_count": 68,
   "metadata": {},
   "outputs": [],
   "source": [
    "from datetime import datetime\n",
    "def combine_scenarios_2(results):\n",
    "#         first = True    \n",
    "\n",
    "        \n",
    "#         total = make_float(pd.DataFrame(results[0])).sort_values([0,1,9]).reset_index(drop = True)\n",
    "#         indexers = total.iloc[:,[0,1]]\n",
    "#         #for i in range(10):\n",
    "#         for i in range(results.shape[0]):\n",
    "#             total = total.append(make_float(pd.DataFrame(results[i])).sort_values([0,1,9]).reset_index(drop = True))\n",
    "#             print('Current rep: '+ f'{i}\\r', end=\"\")\n",
    "        #shape = results.shape\n",
    "    results = results.reshape(results.shape[0] * results.shape[1], results.shape[2])\n",
    "    print('Turning into floats for means ', datetime.now())\n",
    "    results = make_float(pd.DataFrame(results))\n",
    "    print('Grouping now ', datetime.now())\n",
    "    means = results.groupby(by = [0, 1, 9]).mean()\n",
    "    print('Means done ', datetime.now() )\n",
    "    results[9] = results[9].astype(object)\n",
    "    categoricals = results[results.columns[results.dtypes == object]].groupby(by = [0,1,9]).agg(lambda x: pd.Series.mode(x)[0])#.agg(lambda x:x.value_counts())\n",
    "    print('Categoricals done ', datetime.now())\n",
    "    outcome = means.merge(categoricals, left_index = True, right_index = True)#.to_numpy()\n",
    "        \n",
    "        \n",
    "#         outcome = np.expand_dims(outcome, 0)\n",
    "#         if first == True:\n",
    "#             outcome_set = outcome\n",
    "#             first = False\n",
    "#         else:\n",
    "#             outcome_set = np.append(outcome_set, outcome, axis = 0)\n",
    "        \n",
    "    return outcome"
   ]
  },
  {
   "cell_type": "code",
   "execution_count": 16,
   "metadata": {},
   "outputs": [],
   "source": [
    "from datetime import datetime"
   ]
  },
  {
   "cell_type": "code",
   "execution_count": null,
   "metadata": {},
   "outputs": [],
   "source": [
    "start = datetime.now()\n",
    "HG_scen_high = combine_scenarios(HG_high_results)\n",
    "print('Combining took ' + str(datetime.now()-start))"
   ]
  },
  {
   "cell_type": "code",
   "execution_count": null,
   "metadata": {},
   "outputs": [],
   "source": [
    "start = datetime.now()\n",
    "HP_scen_high = combine_scenarios(HP_high_results)\n",
    "print('Combining took ' + str(datetime.now()-start))"
   ]
  },
  {
   "cell_type": "code",
   "execution_count": 17,
   "metadata": {},
   "outputs": [
    {
     "name": "stdout",
     "output_type": "stream",
     "text": [
      "Grouping now 794\n",
      "Combining took 2:10:17.559721\n"
     ]
    }
   ],
   "source": [
    "start = datetime.now()\n",
    "CO2_scen_high = combine_scenarios(CO2_high_results)\n",
    "print('Combining took ' + str(datetime.now()-start))"
   ]
  },
  {
   "cell_type": "code",
   "execution_count": 18,
   "metadata": {},
   "outputs": [
    {
     "name": "stdout",
     "output_type": "stream",
     "text": [
      "Grouping now 153\n",
      "Combining took 0:05:51.953046\n"
     ]
    }
   ],
   "source": [
    "start = datetime.now()\n",
    "CO2_scen_low = combine_scenarios(CO2_low_results)\n",
    "print('Combining took ' + str(datetime.now()-start))"
   ]
  },
  {
   "cell_type": "code",
   "execution_count": 19,
   "metadata": {},
   "outputs": [],
   "source": [
    "#pd.DataFrame(HP_scen_high).to_csv('HP_high_scenario.csv')\n",
    "#pd.DataFrame(HG_scen_high).to_csv('HG_high_scenario.csv')\n",
    "pd.DataFrame(CO2_scen_high).to_csv('CO2_high_scenario.csv')\n",
    "pd.DataFrame(CO2_scen_low).to_csv('CO2_low_scenario.csv')"
   ]
  },
  {
   "cell_type": "code",
   "execution_count": 20,
   "metadata": {},
   "outputs": [
    {
     "name": "stdout",
     "output_type": "stream",
     "text": [
      "Grouping now 424\n",
      "Grouping now 196\n",
      "Grouping now 794\n",
      "Grouping now 153\n"
     ]
    }
   ],
   "source": [
    "HG_scen_high_std = combine_scenarios_std(HG_high_results)\n",
    "HP_scen_high_std = combine_scenarios_std(HP_high_results)\n",
    "CO2_scen_high_std = combine_scenarios_std(CO2_high_results)\n",
    "CO2_scen_low_std = combine_scenarios_std(CO2_low_results)"
   ]
  },
  {
   "cell_type": "code",
   "execution_count": 21,
   "metadata": {},
   "outputs": [],
   "source": [
    "pd.DataFrame(HP_scen_high_std).to_csv('HP_high_scenario_std.csv')\n",
    "pd.DataFrame(HG_scen_high_std).to_csv('HG_high_scenario_std.csv')\n",
    "pd.DataFrame(CO2_scen_high_std).to_csv('CO2_high_scenario_std.csv')\n",
    "pd.DataFrame(CO2_scen_low_std).to_csv('CO2_low_scenario_std.csv')"
   ]
  },
  {
   "cell_type": "code",
   "execution_count": 22,
   "metadata": {},
   "outputs": [
    {
     "name": "stdout",
     "output_type": "stream",
     "text": [
      "Grouping now 1497\n"
     ]
    }
   ],
   "source": [
    "pd.DataFrame(combine_scenarios_std(results)).to_csv('total_results_std.csv')"
   ]
  },
  {
   "cell_type": "code",
   "execution_count": 69,
   "metadata": {},
   "outputs": [
    {
     "name": "stdout",
     "output_type": "stream",
     "text": [
      "Turning into floats for means  2020-07-16 09:54:18.630019\n",
      "Grouping now  2020-07-16 09:57:10.022557\n",
      "Means done  2020-07-16 09:57:33.772622\n",
      "Categoricals done  2020-07-16 10:00:26.381944\n"
     ]
    }
   ],
   "source": [
    "means = combine_scenarios_2(results)"
   ]
  },
  {
   "cell_type": "code",
   "execution_count": 70,
   "metadata": {},
   "outputs": [],
   "source": [
    "means.to_csv('total_results_means.csv')"
   ]
  },
  {
   "cell_type": "code",
   "execution_count": 71,
   "metadata": {},
   "outputs": [
    {
     "data": {
      "text/html": [
       "<div>\n",
       "<style scoped>\n",
       "    .dataframe tbody tr th:only-of-type {\n",
       "        vertical-align: middle;\n",
       "    }\n",
       "\n",
       "    .dataframe tbody tr th {\n",
       "        vertical-align: top;\n",
       "    }\n",
       "\n",
       "    .dataframe thead th {\n",
       "        text-align: right;\n",
       "    }\n",
       "</style>\n",
       "<table border=\"1\" class=\"dataframe\">\n",
       "  <thead>\n",
       "    <tr style=\"text-align: right;\">\n",
       "      <th></th>\n",
       "      <th></th>\n",
       "      <th></th>\n",
       "      <th>2</th>\n",
       "      <th>3</th>\n",
       "      <th>4</th>\n",
       "      <th>5</th>\n",
       "      <th>6</th>\n",
       "      <th>7</th>\n",
       "      <th>8</th>\n",
       "      <th>10</th>\n",
       "      <th>11</th>\n",
       "      <th>12</th>\n",
       "      <th>13</th>\n",
       "      <th>14</th>\n",
       "      <th>15</th>\n",
       "    </tr>\n",
       "    <tr>\n",
       "      <th>0</th>\n",
       "      <th>1</th>\n",
       "      <th>9</th>\n",
       "      <th></th>\n",
       "      <th></th>\n",
       "      <th></th>\n",
       "      <th></th>\n",
       "      <th></th>\n",
       "      <th></th>\n",
       "      <th></th>\n",
       "      <th></th>\n",
       "      <th></th>\n",
       "      <th></th>\n",
       "      <th></th>\n",
       "      <th></th>\n",
       "      <th></th>\n",
       "    </tr>\n",
       "  </thead>\n",
       "  <tbody>\n",
       "    <tr>\n",
       "      <th rowspan=\"5\" valign=\"top\">Amsterdam</th>\n",
       "      <th rowspan=\"5\" valign=\"top\">AMC</th>\n",
       "      <th>2020.0</th>\n",
       "      <td>0.599838</td>\n",
       "      <td>1.000000</td>\n",
       "      <td>1.0</td>\n",
       "      <td>0.000000</td>\n",
       "      <td>0.013324</td>\n",
       "      <td>0.986676</td>\n",
       "      <td>15316.460865</td>\n",
       "      <td>No available options</td>\n",
       "      <td>0</td>\n",
       "      <td>Integrated</td>\n",
       "      <td>Building Team</td>\n",
       "      <td>Building Team</td>\n",
       "      <td>Gas connections</td>\n",
       "    </tr>\n",
       "    <tr>\n",
       "      <th>2021.0</th>\n",
       "      <td>0.730164</td>\n",
       "      <td>1.000000</td>\n",
       "      <td>1.0</td>\n",
       "      <td>0.000000</td>\n",
       "      <td>0.028334</td>\n",
       "      <td>0.971666</td>\n",
       "      <td>18954.617898</td>\n",
       "      <td>No available options</td>\n",
       "      <td>0</td>\n",
       "      <td>Integrated</td>\n",
       "      <td>Building Team</td>\n",
       "      <td>Building Team</td>\n",
       "      <td>Gas connections</td>\n",
       "    </tr>\n",
       "    <tr>\n",
       "      <th>2022.0</th>\n",
       "      <td>0.787939</td>\n",
       "      <td>1.000000</td>\n",
       "      <td>1.0</td>\n",
       "      <td>0.000000</td>\n",
       "      <td>0.041741</td>\n",
       "      <td>0.958259</td>\n",
       "      <td>20610.030154</td>\n",
       "      <td>No available options</td>\n",
       "      <td>0</td>\n",
       "      <td>Integrated</td>\n",
       "      <td>Building Team</td>\n",
       "      <td>Building Team</td>\n",
       "      <td>Gas connections</td>\n",
       "    </tr>\n",
       "    <tr>\n",
       "      <th>2023.0</th>\n",
       "      <td>0.826257</td>\n",
       "      <td>1.000000</td>\n",
       "      <td>1.0</td>\n",
       "      <td>0.000000</td>\n",
       "      <td>0.053343</td>\n",
       "      <td>0.946657</td>\n",
       "      <td>21727.527156</td>\n",
       "      <td>No available options</td>\n",
       "      <td>0</td>\n",
       "      <td>Integrated</td>\n",
       "      <td>Building Team</td>\n",
       "      <td>Building Team</td>\n",
       "      <td>Gas connections</td>\n",
       "    </tr>\n",
       "    <tr>\n",
       "      <th>2024.0</th>\n",
       "      <td>0.855587</td>\n",
       "      <td>1.000000</td>\n",
       "      <td>1.0</td>\n",
       "      <td>0.000000</td>\n",
       "      <td>0.062987</td>\n",
       "      <td>0.937013</td>\n",
       "      <td>22585.090688</td>\n",
       "      <td>No available options</td>\n",
       "      <td>0</td>\n",
       "      <td>Integrated</td>\n",
       "      <td>Building Team</td>\n",
       "      <td>Building Team</td>\n",
       "      <td>Gas connections</td>\n",
       "    </tr>\n",
       "    <tr>\n",
       "      <th>...</th>\n",
       "      <th>...</th>\n",
       "      <th>...</th>\n",
       "      <td>...</td>\n",
       "      <td>...</td>\n",
       "      <td>...</td>\n",
       "      <td>...</td>\n",
       "      <td>...</td>\n",
       "      <td>...</td>\n",
       "      <td>...</td>\n",
       "      <td>...</td>\n",
       "      <td>...</td>\n",
       "      <td>...</td>\n",
       "      <td>...</td>\n",
       "      <td>...</td>\n",
       "      <td>...</td>\n",
       "    </tr>\n",
       "    <tr>\n",
       "      <th rowspan=\"5\" valign=\"top\">Zwartewaterland</th>\n",
       "      <th rowspan=\"5\" valign=\"top\">Zwartsluis Kern</th>\n",
       "      <th>2056.0</th>\n",
       "      <td>0.554846</td>\n",
       "      <td>0.907405</td>\n",
       "      <td>1.0</td>\n",
       "      <td>0.418482</td>\n",
       "      <td>0.077265</td>\n",
       "      <td>0.504253</td>\n",
       "      <td>10510.542078</td>\n",
       "      <td>No available options</td>\n",
       "      <td>0</td>\n",
       "      <td>Integrated</td>\n",
       "      <td>Integrated</td>\n",
       "      <td>Integrated</td>\n",
       "      <td>Gas connections</td>\n",
       "    </tr>\n",
       "    <tr>\n",
       "      <th>2057.0</th>\n",
       "      <td>0.555357</td>\n",
       "      <td>0.908402</td>\n",
       "      <td>1.0</td>\n",
       "      <td>0.421973</td>\n",
       "      <td>0.078375</td>\n",
       "      <td>0.499651</td>\n",
       "      <td>10562.234911</td>\n",
       "      <td>No available options</td>\n",
       "      <td>0</td>\n",
       "      <td>Integrated</td>\n",
       "      <td>Integrated</td>\n",
       "      <td>Integrated</td>\n",
       "      <td>Gas connections</td>\n",
       "    </tr>\n",
       "    <tr>\n",
       "      <th>2058.0</th>\n",
       "      <td>0.555887</td>\n",
       "      <td>0.909399</td>\n",
       "      <td>1.0</td>\n",
       "      <td>0.426805</td>\n",
       "      <td>0.079368</td>\n",
       "      <td>0.493827</td>\n",
       "      <td>10616.549584</td>\n",
       "      <td>No available options</td>\n",
       "      <td>0</td>\n",
       "      <td>Integrated</td>\n",
       "      <td>Integrated</td>\n",
       "      <td>Integrated</td>\n",
       "      <td>Gas connections</td>\n",
       "    </tr>\n",
       "    <tr>\n",
       "      <th>2059.0</th>\n",
       "      <td>0.556369</td>\n",
       "      <td>0.910283</td>\n",
       "      <td>1.0</td>\n",
       "      <td>0.431887</td>\n",
       "      <td>0.080267</td>\n",
       "      <td>0.487847</td>\n",
       "      <td>10670.102803</td>\n",
       "      <td>No available options</td>\n",
       "      <td>0</td>\n",
       "      <td>Integrated</td>\n",
       "      <td>Integrated</td>\n",
       "      <td>Integrated</td>\n",
       "      <td>Gas connections</td>\n",
       "    </tr>\n",
       "    <tr>\n",
       "      <th>2060.0</th>\n",
       "      <td>0.556869</td>\n",
       "      <td>0.911172</td>\n",
       "      <td>1.0</td>\n",
       "      <td>0.438656</td>\n",
       "      <td>0.081103</td>\n",
       "      <td>0.480241</td>\n",
       "      <td>10724.929879</td>\n",
       "      <td>No available options</td>\n",
       "      <td>0</td>\n",
       "      <td>Integrated</td>\n",
       "      <td>Integrated</td>\n",
       "      <td>Integrated</td>\n",
       "      <td>Gas connections</td>\n",
       "    </tr>\n",
       "  </tbody>\n",
       "</table>\n",
       "<p>27019 rows × 13 columns</p>\n",
       "</div>"
      ],
      "text/plain": [
       "                                              2         3    4         5   \\\n",
       "0               1               9                                           \n",
       "Amsterdam       AMC             2020.0  0.599838  1.000000  1.0  0.000000   \n",
       "                                2021.0  0.730164  1.000000  1.0  0.000000   \n",
       "                                2022.0  0.787939  1.000000  1.0  0.000000   \n",
       "                                2023.0  0.826257  1.000000  1.0  0.000000   \n",
       "                                2024.0  0.855587  1.000000  1.0  0.000000   \n",
       "...                                          ...       ...  ...       ...   \n",
       "Zwartewaterland Zwartsluis Kern 2056.0  0.554846  0.907405  1.0  0.418482   \n",
       "                                2057.0  0.555357  0.908402  1.0  0.421973   \n",
       "                                2058.0  0.555887  0.909399  1.0  0.426805   \n",
       "                                2059.0  0.556369  0.910283  1.0  0.431887   \n",
       "                                2060.0  0.556869  0.911172  1.0  0.438656   \n",
       "\n",
       "                                              6         7             8   \\\n",
       "0               1               9                                          \n",
       "Amsterdam       AMC             2020.0  0.013324  0.986676  15316.460865   \n",
       "                                2021.0  0.028334  0.971666  18954.617898   \n",
       "                                2022.0  0.041741  0.958259  20610.030154   \n",
       "                                2023.0  0.053343  0.946657  21727.527156   \n",
       "                                2024.0  0.062987  0.937013  22585.090688   \n",
       "...                                          ...       ...           ...   \n",
       "Zwartewaterland Zwartsluis Kern 2056.0  0.077265  0.504253  10510.542078   \n",
       "                                2057.0  0.078375  0.499651  10562.234911   \n",
       "                                2058.0  0.079368  0.493827  10616.549584   \n",
       "                                2059.0  0.080267  0.487847  10670.102803   \n",
       "                                2060.0  0.081103  0.480241  10724.929879   \n",
       "\n",
       "                                                          10 11          12  \\\n",
       "0               1               9                                             \n",
       "Amsterdam       AMC             2020.0  No available options  0  Integrated   \n",
       "                                2021.0  No available options  0  Integrated   \n",
       "                                2022.0  No available options  0  Integrated   \n",
       "                                2023.0  No available options  0  Integrated   \n",
       "                                2024.0  No available options  0  Integrated   \n",
       "...                                                      ... ..         ...   \n",
       "Zwartewaterland Zwartsluis Kern 2056.0  No available options  0  Integrated   \n",
       "                                2057.0  No available options  0  Integrated   \n",
       "                                2058.0  No available options  0  Integrated   \n",
       "                                2059.0  No available options  0  Integrated   \n",
       "                                2060.0  No available options  0  Integrated   \n",
       "\n",
       "                                                   13             14  \\\n",
       "0               1               9                                      \n",
       "Amsterdam       AMC             2020.0  Building Team  Building Team   \n",
       "                                2021.0  Building Team  Building Team   \n",
       "                                2022.0  Building Team  Building Team   \n",
       "                                2023.0  Building Team  Building Team   \n",
       "                                2024.0  Building Team  Building Team   \n",
       "...                                               ...            ...   \n",
       "Zwartewaterland Zwartsluis Kern 2056.0     Integrated     Integrated   \n",
       "                                2057.0     Integrated     Integrated   \n",
       "                                2058.0     Integrated     Integrated   \n",
       "                                2059.0     Integrated     Integrated   \n",
       "                                2060.0     Integrated     Integrated   \n",
       "\n",
       "                                                     15  \n",
       "0               1               9                        \n",
       "Amsterdam       AMC             2020.0  Gas connections  \n",
       "                                2021.0  Gas connections  \n",
       "                                2022.0  Gas connections  \n",
       "                                2023.0  Gas connections  \n",
       "                                2024.0  Gas connections  \n",
       "...                                                 ...  \n",
       "Zwartewaterland Zwartsluis Kern 2056.0  Gas connections  \n",
       "                                2057.0  Gas connections  \n",
       "                                2058.0  Gas connections  \n",
       "                                2059.0  Gas connections  \n",
       "                                2060.0  Gas connections  \n",
       "\n",
       "[27019 rows x 13 columns]"
      ]
     },
     "execution_count": 71,
     "metadata": {},
     "output_type": "execute_result"
    }
   ],
   "source": [
    "means"
   ]
  },
  {
   "cell_type": "code",
   "execution_count": null,
   "metadata": {},
   "outputs": [],
   "source": []
  }
 ],
 "metadata": {
  "kernelspec": {
   "display_name": "Python 3",
   "language": "python",
   "name": "python3"
  },
  "language_info": {
   "codemirror_mode": {
    "name": "ipython",
    "version": 3
   },
   "file_extension": ".py",
   "mimetype": "text/x-python",
   "name": "python",
   "nbconvert_exporter": "python",
   "pygments_lexer": "ipython3",
   "version": "3.6.10"
  }
 },
 "nbformat": 4,
 "nbformat_minor": 4
}
