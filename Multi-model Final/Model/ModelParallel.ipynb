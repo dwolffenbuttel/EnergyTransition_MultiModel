{
 "cells": [
  {
   "cell_type": "code",
   "execution_count": null,
   "metadata": {},
   "outputs": [],
   "source": [
    "from Multi_model_ET import MultiModelFinal\n",
    "from Multi_model_ET.MultiModelFinal import CombinedModel\n",
    "\n",
    "import os\n",
    "import pandas as pd\n",
    "import numpy as np\n",
    "import seaborn as sns\n",
    "import matplotlib.pyplot as plt\n",
    "from scipy.optimize import brentq\n",
    "import math\n",
    "from ema_workbench import (RealParameter, ScalarOutcome, Constant, Model)\n",
    "import pyNetLogo\n",
    "from datetime import datetime\n",
    "from ema_workbench import (RealParameter, CategoricalParameter, ArrayOutcome, TimeSeriesOutcome, ema_logging,\n",
    "                           perform_experiments, MultiprocessingEvaluator)\n",
    "from ema_workbench import save_results"
   ]
  },
  {
   "cell_type": "code",
   "execution_count": null,
   "metadata": {},
   "outputs": [],
   "source": [
    "filepath_model = r''\n",
    "filepath_results = os.path.abspath(os.path.join(filepath_model, os.pardir)) + \"\\Results\""
   ]
  },
  {
   "cell_type": "code",
   "execution_count": null,
   "metadata": {},
   "outputs": [],
   "source": [
    "multi_model = CombinedModel('UrbanEnergyTransition', wd = filepath_model)"
   ]
  },
  {
   "cell_type": "code",
   "execution_count": null,
   "metadata": {},
   "outputs": [],
   "source": [
    "start = datetime.now()\n",
    "if __name__ == \"__main__\":\n",
    "    # turn on logging\n",
    "    ema_logging.log_to_stderr(ema_logging.INFO)\n",
    "\n",
    "    # instantiate a model\n",
    "\n",
    "    multi_model.uncertainties = [RealParameter('SD_Base Investments Renewable', 0.025, 0.125),\n",
    "                                 RealParameter('SD_Maximum cost reduction', 0.1, 0.5),\n",
    "                                 RealParameter('ABM_group-behaviour', 0, 1),\n",
    "                                 RealParameter('ABM_Heat-company-ROI', 0.04, 0.15),\n",
    "                                 RealParameter('ABM_Max-income-inv-share', 0.05, 0.15),\n",
    "                                 RealParameter('ABM_Max-capital-inv-share', 0.05, 0.15)\n",
    "                                 ]\n",
    "                            \n",
    "                                 # Lookup uncertainties\n",
    "                                 # Gas production-cost\n",
    "                                 # Share demands housing Sector\n",
    "                                 # % renewable import\n",
    "                            \n",
    "    multi_model.levers = [RealParameter('ABM_insulation-subsidy', 0, 0.5),\n",
    "                            RealParameter('ABM_LT-production-subsidy', 0, 0.5),\n",
    "                            RealParameter('ABM_LT-investment-subsidy', 0, 0.5),\n",
    "                            RealParameter('ABM_MT-production-subsidy', 0, 0.5),\n",
    "                            RealParameter('ABM_MT-investment-subsidy', 0, 0.5),\n",
    "                            RealParameter('SD_\"NMTU-factor\"', 1, 2),\n",
    "                            RealParameter('SD_Tax multiplier', 0, 3),\n",
    "                            CategoricalParameter('SD_\"CO2-tax-scheme\"', [0, 1 , 2])\n",
    "                       #     LookupUncertainty( values = [\n",
    "                       #         #[(2019,0.03),(2030,0.15),(2036,0.4),(2040,0.7),(2043,1),(2050,1.7),(2054,2.3),(2057,3),(2060,3.55)],\n",
    "                       #         [(2019,0.03),(2030,0.15),(2036,0.15),(2040,0.15),(2043,0.15),(2050,0.15),(2054,0.15),(2057,0.15),(2060,0.15)],\n",
    "                       #         [(2019,0.03),(2030,0.15),(2036,0.3),(2040,0.5),(2043,0.8),(2050,1.2),(2054,1.7),(2057,2.2),(2060,2.8)]],\n",
    "                       #                       name = '\"CO2-Tax\"',lookup_type = 'categories', msi = multi_model.vensim)\n",
    "                         ]\n",
    "                           \n",
    "                            # Lookup policies\n",
    "                            # CO2-TAX\n",
    "                            # Green Gas production\n",
    "    \n",
    "    \n",
    "    # FOR ABM: globals only\n",
    "    multi_model.outcomes = [TimeSeriesOutcome('SD_National Energy System Distribution[Natural Gas]'),\n",
    "                            TimeSeriesOutcome('SD_Average Gas Price'),\n",
    "                            TimeSeriesOutcome('SD_Average Electricity Price'),\n",
    "                            TimeSeriesOutcome('SD_Average Heat Price'),\n",
    "                            TimeSeriesOutcome('SD_National Energy System Distribution[Natural Gas]'),\n",
    "                            TimeSeriesOutcome('SD_National Energy System Distribution[Green Gas]'),\n",
    "                            TimeSeriesOutcome('SD_National Energy System Distribution[LT Heating Grid]'),\n",
    "                            TimeSeriesOutcome('SD_National Energy System Distribution[MT Heating Grid]'),\n",
    "                            TimeSeriesOutcome('SD_National Energy System Distribution[HT Heating Grid]'),\n",
    "                            TimeSeriesOutcome('SD_National Energy System Distribution[Air Heat Pump]'),\n",
    "                            TimeSeriesOutcome('SD_National Energy System Distribution[Ground Heat Pump]'),\n",
    "                            TimeSeriesOutcome('SD_\"Cumulative CO2-emmissions\"'),\n",
    "                            TimeSeriesOutcome('SD_Percentage Renewable Electricity'),\n",
    "                            TimeSeriesOutcome('SD_\"CO2-Tax\"'),\n",
    "                            ArrayOutcome('Neighbourhood Data')]\n",
    "\n",
    "    #results = perform_experiments(multi_model, 1, 0)\n",
    "    \n",
    "    with MultiprocessingEvaluator(multi_model) as evaluator:\n",
    "        results = perform_experiments(multi_model, 1, 4,\n",
    "                                      evaluator=evaluator)\n",
    "    \n",
    "    end = datetime.now()\n",
    "\n",
    "    print('Total experiments took ' + str(end-start))"
   ]
  },
  {
   "cell_type": "code",
   "execution_count": null,
   "metadata": {},
   "outputs": [],
   "source": [
    "save_results(results, filepath_results + '\\\\test runs.tar.gz')"
   ]
  },
  {
   "cell_type": "code",
   "execution_count": null,
   "metadata": {},
   "outputs": [],
   "source": []
  }
 ],
 "metadata": {
  "kernelspec": {
   "display_name": "Python 3",
   "language": "python",
   "name": "python3"
  },
  "language_info": {
   "codemirror_mode": {
    "name": "ipython",
    "version": 3
   },
   "file_extension": ".py",
   "mimetype": "text/x-python",
   "name": "python",
   "nbconvert_exporter": "python",
   "pygments_lexer": "ipython3",
   "version": "3.6.10"
  }
 },
 "nbformat": 4,
 "nbformat_minor": 4
}
